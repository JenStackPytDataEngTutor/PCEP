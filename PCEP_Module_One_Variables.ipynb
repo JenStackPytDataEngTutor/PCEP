{
 "cells": [
  {
   "cell_type": "markdown",
   "id": "5d54c541",
   "metadata": {},
   "source": [
    "# Variables in Python\n",
    "### One of the most important things in Python is variables.\n",
    "#### A variable is a named place in memory where you can store data for later use.\n",
    "\n",
    "1. We can create variables which are like boxes for data, we use the = operator know are the assignment operator, a variable only exists when you complete the assignment for example:\n",
    "    my_variable = 'data of some type'\n",
    "in the above example the data is of type string, as its surounded by ''.\n",
    "\n",
    "2. Variables can have many names, but there are three rules to abide by in order to avoid illegal variable names:\n",
    "3. A variable can not use a python keyword as a name, for example: \n",
    "    for, True, False, from, in, for a list of python keywords go to python.org\n",
    "    note: a captal For is okay. a lower case true false is okay"
   ]
  },
  {
   "cell_type": "markdown",
   "id": "3e5808b2",
   "metadata": {},
   "source": [
    "1. variable_name = 'Location in the computers memory that stores data'\n",
    "2. good_variable = 'lowercase_used for variables and function_names'\n",
    "3. illegal_names = 'Python Keywords, such as True, From, in, is, False and more'\n",
    "#check out all the Python Keywords at pyhon.org'\n",
    "4. print('When you want to access your vaiables content, you can use the print function')\n",
    "        a = 2\n",
    "        print(a)#prints 2 to the console\n",
    "    note: in python we do not have to declare the data type of our variable, python has literals, when we use:\n",
    "        variable = 1\n",
    "        variable = 'I am a string'\n",
    "        variable = ['I am a list', 1,3]\n",
    "5. Python is a dynamic(not statically typed programming language)meaning the variable can have a different addignment each time we decare the variable and use the assignment operator, for example:\n",
    "            a = 2\n",
    "            print(a)\n",
    "            a = 3\n",
    "            print(a)\n",
    "            a = 'three'\n",
    "            print(a)\n",
    "            note variable reassignment is not exclusive to variables in pyton, this can be done with other object of different data types and we look at that later.\n",
    "6. if your variable is a function you call the function by its name and use the () to invoke it.\n",
    "    def my_func(a, b)\n",
    "        print('My functions location')\n",
    "7. this functions variable name is my_func\n",
    "8. it takes two arguments that are stored within the parameters with variable names a and b\n",
    "9. Below is an example of a simple function:"
   ]
  },
  {
   "cell_type": "code",
   "execution_count": 8,
   "id": "802d538c",
   "metadata": {},
   "outputs": [
    {
     "name": "stdout",
     "output_type": "stream",
     "text": [
      "Hello Justin, you are 36\n",
      "Hello Jhon, you are 38\n",
      "Hello Jason, you are 40\n"
     ]
    }
   ],
   "source": [
    "#A function is a collection of code, which performs a specific task. \n",
    "\n",
    "def say_hi(name, age): #This defines the function you can also add \n",
    "                       #variables in the parentheses\n",
    "  print(\"Hello \" +  name + \", you are \" + str(age)) \n",
    "\n",
    "say_hi(\"Justin\", 36) #This calls the function and executes the code\n",
    "say_hi(\"Jhon\", 38)   #Inside the parentheses you can state the name          \n",
    "say_hi(\"Jason\" , 40) #and age that you want to run\n",
    "\n",
    "#when you are naming a function, name the function with all lowercase."
   ]
  },
  {
   "cell_type": "markdown",
   "id": "a37148a6",
   "metadata": {},
   "source": [
    "## Examples of functions in python "
   ]
  },
  {
   "cell_type": "code",
   "execution_count": 9,
   "id": "2db54ab8",
   "metadata": {},
   "outputs": [
    {
     "name": "stdout",
     "output_type": "stream",
     "text": [
      "\n",
      "\n",
      "hi how are you?\n",
      "HI HOW ARE YOU?\n",
      "True\n",
      "True\n"
     ]
    }
   ],
   "source": [
    "print(\"\\n\") #This adds a new line below\n",
    "phrase = 'HI HOW ARE YOU?'\n",
    "print(phrase.lower()) #Turns all alphabets to lowercase\n",
    "phrase = 'hI hOW aRE yOU?'\n",
    "print(phrase.upper()) #Turns all alphabets to uppercase\n",
    "phrase = 'HI HOW ARE YOU?'\n",
    "print(phrase.isupper())\n",
    "#Checks if all alphabets are uppercase, same for lowercase\n",
    "phrase = 'HI HOW ARE YOU?'\n",
    "print(phrase.upper().isupper())\n",
    "#We can use these functiones one after another too! \n",
    "#This comes in handy a lot"
   ]
  },
  {
   "cell_type": "markdown",
   "id": "23cce929",
   "metadata": {},
   "source": [
    "\n"
   ]
  },
  {
   "cell_type": "code",
   "execution_count": null,
   "id": "fb8dc3fb",
   "metadata": {},
   "outputs": [],
   "source": []
  }
 ],
 "metadata": {
  "kernelspec": {
   "display_name": "Python 3 (ipykernel)",
   "language": "python",
   "name": "python3"
  },
  "language_info": {
   "codemirror_mode": {
    "name": "ipython",
    "version": 3
   },
   "file_extension": ".py",
   "mimetype": "text/x-python",
   "name": "python",
   "nbconvert_exporter": "python",
   "pygments_lexer": "ipython3",
   "version": "3.9.12"
  }
 },
 "nbformat": 4,
 "nbformat_minor": 5
}
