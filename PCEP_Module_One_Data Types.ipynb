{
 "cells": [
  {
   "cell_type": "markdown",
   "id": "5d54c541",
   "metadata": {},
   "source": [
    "## Data Types\n",
    "In programming, data type is an important concept.\n"
   ]
  },
  {
   "cell_type": "markdown",
   "id": "3e5808b2",
   "metadata": {},
   "source": [
    "A data type can be assigned to a variable using the = assignment operator, literal data types in python:\n",
    "1. string, examples:\n",
    "        variable = 'strings' or \"strings\" or \"string's\" or '\"string\\'s'\"\n",
    "2. int for integer, examples:\n",
    "        number = 1\n",
    "3. float for a true integer value with a decimal:\n",
    "        length = 3.5\n",
    "        length= 3.0\n",
    "        same as:\n",
    "        length = 3.\n",
    "4. Boolean is a True or False value returned after a comparison or a 'in' or  'not in' and more we will discuss later. \n",
    "NOTE: Golden Rule in programming and in python is: Binary: True is 1 and False is 0 we will look at this later, here is proof\n",
    "       "
   ]
  },
  {
   "cell_type": "code",
   "execution_count": 7,
   "id": "fc85b458",
   "metadata": {},
   "outputs": [
    {
     "name": "stdout",
     "output_type": "stream",
     "text": [
      "1\n",
      "0\n",
      "<class 'bool'>\n",
      "<class 'bool'>\n"
     ]
    }
   ],
   "source": [
    "a = True\n",
    "b = False\n",
    "print(int(a))\n",
    "print(int(b))\n",
    "print(type(a))#still of bool data type, casting to demos the binary value of a True and a False.\n",
    "print(type(b))"
   ]
  },
  {
   "cell_type": "code",
   "execution_count": 5,
   "id": "802d538c",
   "metadata": {},
   "outputs": [
    {
     "name": "stdout",
     "output_type": "stream",
     "text": [
      "<class 'int'>\n"
     ]
    }
   ],
   "source": [
    "#further information re casting to change a data type: \n",
    "string = '1'\n",
    "string = int('1')\n",
    "print(type(string))"
   ]
  },
  {
   "cell_type": "code",
   "execution_count": 10,
   "id": "a8b566ca",
   "metadata": {},
   "outputs": [
    {
     "name": "stdout",
     "output_type": "stream",
     "text": [
      "<class 'float'>\n"
     ]
    }
   ],
   "source": [
    "#Operators can change a data type:\n",
    "#for example:\n",
    "a = 2\n",
    "b = 1\n",
    "c = a/b#returns a float 2.0\n",
    "print(type(c))\n"
   ]
  },
  {
   "cell_type": "markdown",
   "id": "3d14cac8",
   "metadata": {},
   "source": [
    "    Data              Variable types:\n",
    "1. Text:              String(str when writing code)\n",
    "2. Number:            Integer(int), float, complex\n",
    "3. Sequence:          list, tuple, range\n",
    "4. Mapping:           Dictionary\n",
    "5. Boolean:           bool\n",
    "6. binary:            bytes, bytearray, memoryview"
   ]
  },
  {
   "cell_type": "markdown",
   "id": "6d3719c7",
   "metadata": {},
   "source": [
    "Meaning of Data types:\n",
    "1. string: text\n",
    "2. integer: whole number\n",
    "3. float: decimal\n",
    "4. complex: complex number\n",
    "5. list: a list with multiple elements which are data types and can be different types\n",
    "6. tuple: a non editable list\n",
    "7. range: a range of numbers\n",
    "8. dictionary: key value pairing, for example: \"fruit1\":\"Apple\"\n",
    "            (fruit is the key and apple is the value)\n",
    "9. boolean: True or False\n",
    "10. byte: \n",
    "11. bytearray: \n",
    "12. memoryview: \n",
    "    \n",
    "Examples in the below code cells:\n"
   ]
  },
  {
   "cell_type": "code",
   "execution_count": null,
   "id": "dbbadb1b",
   "metadata": {},
   "outputs": [],
   "source": [
    "String: x = \"This is a string\"\n",
    "        y = \"\"\"\n",
    "            This\n",
    "            is\n",
    "            a\n",
    "            multiple\n",
    "            line\n",
    "            string\n",
    "            \"\"\""
   ]
  },
  {
   "cell_type": "code",
   "execution_count": null,
   "id": "89d784ca",
   "metadata": {},
   "outputs": [],
   "source": [
    "Integer: x = 10\n",
    "         y = 20"
   ]
  },
  {
   "cell_type": "code",
   "execution_count": null,
   "id": "fe4a2359",
   "metadata": {},
   "outputs": [],
   "source": [
    "Float: x = 1.5\n",
    "       y = 1.231"
   ]
  },
  {
   "cell_type": "markdown",
   "id": "6ac1575d",
   "metadata": {},
   "source": [
    "Python is a rare exception because it comes with complex numbers built in.\n",
    "1. Define complex numbers with literals in Python\n",
    "2. Represent complex numbers in rectangular and polar coordinates\n",
    "3. Use complex numbers in arithmetic expressions\n",
    "4. Take advantage of the built-in cmath module\n",
    "5. Translate mathematical formulas directly to Python code\n",
    "\n",
    "Example of syntax:"
   ]
  },
  {
   "cell_type": "code",
   "execution_count": null,
   "id": "c5b4f2fa",
   "metadata": {},
   "outputs": [],
   "source": [
    "Complex: x = 1j"
   ]
  },
  {
   "cell_type": "markdown",
   "id": "3f6f71b4",
   "metadata": {},
   "source": [
    "The quickest way to define a complex number in Python is by typing its literal directly in the source code:\n",
    "the expression to the right of the equals sign is already a fixed value that needs no further evaluation. "
   ]
  },
  {
   "cell_type": "markdown",
   "id": "624b2387",
   "metadata": {},
   "source": [
    "On the other hand, appending the letter j to a numeric literal will immediately turn it into a complex number:"
   ]
  },
  {
   "cell_type": "code",
   "execution_count": null,
   "id": "c16803d3",
   "metadata": {},
   "outputs": [],
   "source": [
    "z = 3.14j\n",
    "type(z)\n",
    "#<class 'complex'>"
   ]
  },
  {
   "cell_type": "markdown",
   "id": "21cbb9ef",
   "metadata": {},
   "source": [
    "Strictly speaking, from a mathematical standpoint, you’ve just created a pure imaginary number, but Python can’t represent it as a stand-alone data type. Therefore, without the other part, it’s just a complex number ."
   ]
  },
  {
   "cell_type": "code",
   "execution_count": null,
   "id": "144f58ed",
   "metadata": {},
   "outputs": [],
   "source": [
    "z = 3 + 2j"
   ]
  },
  {
   "cell_type": "code",
   "execution_count": null,
   "id": "5a9c742e",
   "metadata": {},
   "outputs": [],
   "source": [
    "#you can use floating point numbers to create a complex number.\n",
    "z = 3.14 + 2.71j\n",
    "type(z)\n",
    "#<class 'complex'>"
   ]
  },
  {
   "cell_type": "markdown",
   "id": "1b40891a",
   "metadata": {},
   "source": [
    "Complex number literals in Python mimic the mathematical notation, which is also known as the standard form, the algebraic form, or sometimes the canonical form, of a complex number. In Python, you can use either lowercase j or uppercase J in those literals."
   ]
  },
  {
   "cell_type": "markdown",
   "id": "f222e282",
   "metadata": {},
   "source": [
    "Addition has a commutative property, which lets you swap the order of the two parts of a complex number literal without changing its value:"
   ]
  },
  {
   "cell_type": "code",
   "execution_count": null,
   "id": "96732db3",
   "metadata": {},
   "outputs": [],
   "source": [
    "3 + 2j == 2j + 3\n",
    "#True"
   ]
  },
  {
   "cell_type": "markdown",
   "id": "52c35125",
   "metadata": {},
   "source": [
    "Similarly, you can substitute addition for subtraction in a complex number literal because the minus sign is just a shorthand notation for an equivalent form:"
   ]
  },
  {
   "cell_type": "code",
   "execution_count": null,
   "id": "52bad932",
   "metadata": {},
   "outputs": [],
   "source": [
    "3 - 2j == 3 + (-2j)\n",
    "#True"
   ]
  },
  {
   "cell_type": "markdown",
   "id": "95dd594d",
   "metadata": {},
   "source": [
    "How about the opposite? To create a complex number without the imaginary part, you can take advantage of zero and add or subtract it like so:"
   ]
  },
  {
   "cell_type": "code",
   "execution_count": null,
   "id": "13c56c0b",
   "metadata": {},
   "outputs": [],
   "source": [
    "z = 3.14 + 0j\n",
    "type(z)\n",
    "#<class 'complex'>"
   ]
  },
  {
   "cell_type": "markdown",
   "id": "021d6b77",
   "metadata": {},
   "source": [
    "Note below when we have more than one of int and complex numbers we can perform the algebra move."
   ]
  },
  {
   "cell_type": "code",
   "execution_count": null,
   "id": "bd391279",
   "metadata": {},
   "outputs": [],
   "source": [
    "2 + 3j + 4 + 5j\n",
    "#(6+8j)"
   ]
  },
  {
   "cell_type": "markdown",
   "id": "b30b9c86",
   "metadata": {},
   "source": [
    "Notice how Python displays complex numbers by default. Their textual representation contains an enclosing pair of parentheses, a lowercase letter j, and no whitespace. Additionally, the imaginary part comes second.\n",
    "\n",
    "Complex numbers that also happen to be pure imaginary numbers show up without parentheses and only reveal their imaginary part:"
   ]
  },
  {
   "cell_type": "code",
   "execution_count": null,
   "id": "3501f689",
   "metadata": {},
   "outputs": [],
   "source": [
    "3 + 0j\n",
    "#(3+0j)\n",
    "0 + 3j\n",
    "3j"
   ]
  },
  {
   "cell_type": "markdown",
   "id": "0014c7eb",
   "metadata": {},
   "source": [
    "This helps differentiate imaginary numbers from most complex numbers made up of real and imaginary parts."
   ]
  },
  {
   "cell_type": "markdown",
   "id": "929e7405",
   "metadata": {},
   "source": [
    "# complex() Factory Function\n",
    "Python has a built-in function, complex(), that you can use as an alternative to the complex number literal:"
   ]
  },
  {
   "cell_type": "code",
   "execution_count": null,
   "id": "ec58ed61",
   "metadata": {},
   "outputs": [],
   "source": [
    "z = complex(3, 2)"
   ]
  },
  {
   "cell_type": "markdown",
   "id": "a9d5614b",
   "metadata": {},
   "source": [
    "1. In this form, it resembles a tuple or an ordered pair of ordinary numbers. The analogy isn’t that far-fetched. Complex numbers have a geometric interpretation in the Cartesian coordinate system that you’ll explore in a bit. You can think of complex numbers as two-dimensional.\n",
    "\n",
    "2. Fun fact: In math, complex numbers are traditionally denoted with the letter z as it’s the next letter in the alphabet after x and y, which commonly represent coordinates.\n",
    "\n",
    "3. The complex number factory function accepts two numeric parameters. The first one represents the real part, while the second one represents the imaginary part denoted with the letter j in the literal you saw earlier:"
   ]
  },
  {
   "cell_type": "code",
   "execution_count": null,
   "id": "c8828181",
   "metadata": {},
   "outputs": [],
   "source": [
    "complex(3, 2) == 3 + 2j\n",
    "#True"
   ]
  },
  {
   "cell_type": "markdown",
   "id": "799a9eb7",
   "metadata": {},
   "source": [
    "Both parameters are optional, with default values of zero, which makes it less clunky to define complex numbers without the imaginary part or both the real and imaginary parts:"
   ]
  },
  {
   "cell_type": "code",
   "execution_count": 11,
   "id": "df2ce4eb",
   "metadata": {},
   "outputs": [
    {
     "data": {
      "text/plain": [
       "True"
      ]
     },
     "execution_count": 11,
     "metadata": {},
     "output_type": "execute_result"
    }
   ],
   "source": [
    "complex(3) == 3 + 0j\n",
    "#True\n",
    "complex() == 0 + 0j\n",
    "#True"
   ]
  },
  {
   "cell_type": "markdown",
   "id": "9ece5716",
   "metadata": {},
   "source": [
    "The single-argument version can be useful in type casting. For example, you can pass a nonnumeric value like a string literal to obtain a corresponding complex object. Note that the string can’t contain any whitespace, though:"
   ]
  },
  {
   "cell_type": "code",
   "execution_count": null,
   "id": "46052bbe",
   "metadata": {},
   "outputs": [],
   "source": [
    "complex(\"3+2j\")\n",
    "(3+2j)\n",
    "\n",
    "complex(\"3 + 2j\")\n",
    "'''\n",
    "Traceback (most recent call last):\n",
    "  File \"<stdin>\", line 1, in <module>\n",
    "ValueError: complex() arg is a malformed string\n",
    "'''"
   ]
  },
  {
   "cell_type": "markdown",
   "id": "792473d1",
   "metadata": {},
   "source": [
    "Later, you’ll find out how to make your classes compatible with this type casting mechanism. Interestingly, when you pass a complex number to complex(), you’ll get the same instance back:"
   ]
  },
  {
   "cell_type": "code",
   "execution_count": null,
   "id": "fbe0f10e",
   "metadata": {},
   "outputs": [],
   "source": [
    "z = complex(3, 2)\n",
    "z is complex(z)\n",
    "#True"
   ]
  },
  {
   "cell_type": "markdown",
   "id": "54ff07be",
   "metadata": {},
   "source": [
    "That’s consistent with how other types of numbers in Python work because they’re all immutable. To make a distinct copy of a complex number, you must call the function with both arguments again or declare another variable with the complex number literal:"
   ]
  },
  {
   "cell_type": "code",
   "execution_count": null,
   "id": "3d9b2813",
   "metadata": {},
   "outputs": [],
   "source": [
    "z = complex(3, 2)\n",
    "z is complex(3, 2)\n",
    "False"
   ]
  },
  {
   "cell_type": "markdown",
   "id": "ab7ef049",
   "metadata": {},
   "source": [
    "When you provide two arguments to the function, they must always be numbers, such as int, float, or complex. Otherwise, you’ll get a runtime error. Technically speaking, bool is a subclass of int, so it’ll work too:"
   ]
  },
  {
   "cell_type": "code",
   "execution_count": null,
   "id": "7cefa576",
   "metadata": {},
   "outputs": [],
   "source": [
    "complex(False, True)  # Booleans, same as complex(0, 1)\n",
    "#1j\n",
    "\n",
    "complex(3, 2)  # Integers\n",
    "#(3+2j)\n",
    "\n",
    "complex(3.14, 2.71)  # Floating-point numbers\n",
    "#(3.14+2.71j)\n",
    "\n",
    "complex(\"3\", \"2\")  # Strings\n",
    "'''\n",
    "Traceback (most recent call last):\n",
    "  File \"<stdin>\", line 1, in <module>\n",
    "TypeError: complex() can't take second arg if first is a string\n",
    "'''"
   ]
  },
  {
   "cell_type": "markdown",
   "id": "b93272e1",
   "metadata": {},
   "source": [
    "Things get seemingly more bizarre when you supply the complex() factory function with complex numbers as arguments. If you provide only the first argument, though, it’ll behave like a proxy as before:"
   ]
  },
  {
   "cell_type": "code",
   "execution_count": null,
   "id": "917a8d30",
   "metadata": {},
   "outputs": [],
   "source": [
    "complex(complex(3, 2))\n",
    "#(3+2j)"
   ]
  },
  {
   "cell_type": "markdown",
   "id": "f91527ef",
   "metadata": {},
   "source": [
    "However, when two arguments are present and at least one of them is a complex number, you’ll get results that may be difficult to explain at first sight:"
   ]
  },
  {
   "cell_type": "code",
   "execution_count": null,
   "id": "00ae4502",
   "metadata": {},
   "outputs": [],
   "source": [
    "complex(1, complex(3, 2))\n",
    "#(-1+3j)\n",
    "\n",
    "complex(complex(3, 2), 1)\n",
    "#(3+3j)\n",
    "\n",
    "complex(complex(3, 2), complex(3, 2))\n",
    "#(1+5j)"
   ]
  },
  {
   "cell_type": "markdown",
   "id": "df3b8f4b",
   "metadata": {},
   "source": [
    "To get the answers, let’s take a peek at the factory function’s docstring or the online documentation, which explain what’s going on under the hood when you call complex(real, imag):\n",
    "\n",
    "Return a complex number with the value real + imag*1j or convert a string or number to a complex number. (Source)\n",
    "\n",
    "In this explanation, real and imag are names of the function arguments. The second argument gets multiplied by the imaginary unit j, and the result is added to the first argument. Don’t worry if it still doesn’t make any sense. You can come back to this part when you’ve read about complex numbers arithmetic. The rules that you’ll learn about will make this straightforward.\n",
    "\n",
    "When would you want to use the complex() factory function over the literal? It depends, but calling the function may be more convenient when you’re dealing with dynamically generated data, for example."
   ]
  },
  {
   "cell_type": "markdown",
   "id": "9aa0a7c5",
   "metadata": {},
   "source": [
    "# Getting to Know Python Complex Numbers\n",
    "In mathematics, complex numbers are a superset of real numbers, which means that every real number is also a complex number whose imaginary part is equal to zero. Python models this relationship through a concept called the numeric tower, described in PEP 3141:"
   ]
  },
  {
   "cell_type": "code",
   "execution_count": null,
   "id": "41da4f13",
   "metadata": {},
   "outputs": [],
   "source": [
    "import numbers\n",
    "issubclass(numbers.Real, numbers.Complex)\n",
    "#True"
   ]
  },
  {
   "cell_type": "markdown",
   "id": "c09b347a",
   "metadata": {},
   "source": [
    "The built-in numbers module defines a hierarchy of numeric types through abstract classes that can be used for type checking and classifying numbers. For example, to determine if a value belongs to a specific set of numbers, you can call isinstance() on it:"
   ]
  },
  {
   "cell_type": "code",
   "execution_count": null,
   "id": "79d0bec9",
   "metadata": {},
   "outputs": [],
   "source": [
    "isinstance(3.14, numbers.Complex)\n",
    "#True\n",
    "isinstance(3.14, numbers.Integral)\n",
    "#False"
   ]
  },
  {
   "cell_type": "code",
   "execution_count": null,
   "id": "4c901fc6",
   "metadata": {},
   "outputs": [],
   "source": [
    "isinstance(3.14, complex)\n",
    "#False"
   ]
  },
  {
   "cell_type": "markdown",
   "id": "3c98f8c7",
   "metadata": {},
   "source": [
    "The difference between complex and numbers.Complex is that they belong to separate branches in the numeric type hierarchy tree, and the latter is an abstract base class without any implementation:"
   ]
  },
  {
   "cell_type": "markdown",
   "id": "0ba0ef5c",
   "metadata": {},
   "source": [
    "The floating-point value 3.14 is a real number that also happens to be a complex number but not an integral one. Note that you can’t use built-in types directly in such a test:"
   ]
  },
  {
   "attachments": {
    "uml_numeric_types.webp": {
     "image/webp": "[encoded data removed]"
    }
   },
   "cell_type": "markdown",
   "id": "0876cd2e",
   "metadata": {},
   "source": [
    "![uml_numeric_types.webp](attachment:uml_numeric_types.webp)"
   ]
  },
  {
   "attachments": {},
   "cell_type": "markdown",
   "id": "2bdf02e5",
   "metadata": {},
   "source": [
    "Abstract base classes, which are denoted in red on the diagram above, can bypass the regular inheritance check mechanism by registering unrelated classes as their virtual subclasses. That’s why a floating-point value in the example appears to be an instance of numbers.Complex but not complex.\n",
    "\n",
    "Accessing Real and Imaginary Parts\n",
    "To get the real and imaginary parts of a complex number in Python, you can reach for the corresponding .real and .imag attributes:"
   ]
  },
  {
   "cell_type": "code",
   "execution_count": null,
   "id": "880ec80d",
   "metadata": {},
   "outputs": [],
   "source": [
    "z = 3 + 2j\n",
    "z.real\n",
    "#3.0\n",
    "z.imag\n",
    "#2.0"
   ]
  },
  {
   "cell_type": "markdown",
   "id": "6ccfb37b",
   "metadata": {},
   "source": [
    "Both properties are read-only because complex numbers are immutable, so trying to assign a new value to either of them will fail:"
   ]
  },
  {
   "cell_type": "code",
   "execution_count": null,
   "id": "a5c38df9",
   "metadata": {},
   "outputs": [],
   "source": [
    "z.real = 3.14\n",
    "'''\n",
    "Traceback (most recent call last):\n",
    "  File \"<stdin>\", line 1, in <module>\n",
    "AttributeError: readonly attribute\n",
    "'''"
   ]
  },
  {
   "cell_type": "markdown",
   "id": "bad3d38b",
   "metadata": {},
   "source": [
    "Since every number in Python is a more specific type of a complex number, attributes and methods defined in numbers.Complex are also available in all numeric types, including int and float:"
   ]
  },
  {
   "cell_type": "code",
   "execution_count": null,
   "id": "ef62c334",
   "metadata": {},
   "outputs": [],
   "source": [
    "x = 42\n",
    "x.real\n",
    "#42\n",
    "x.imag\n",
    "#0\n",
    "#The imaginary part of such numbers is always zero."
   ]
  },
  {
   "cell_type": "code",
   "execution_count": null,
   "id": "d3c9406e",
   "metadata": {},
   "outputs": [],
   "source": [
    "#Convert the number 3 and imaginary number 5 into a complex number:\n",
    "\n",
    "x = complex(3, 5)"
   ]
  },
  {
   "cell_type": "markdown",
   "id": "4a3a2ec4",
   "metadata": {},
   "source": [
    "# Definition and Usage\n",
    "The complex() function returns a complex number by specifying a real number and an imaginary number.\n",
    "\n",
    "# Syntax\n",
    "complex(real, imaginary)\n",
    "# Parameter Values\n",
    "Parameter and Description\n",
    "1. real\tRequired. \n",
    "A number representing the real part of the complex number. Default 0. The real number can also be a String, like this '3+5j', when this is the case, the second parameter should be omitted.\n",
    "2. imaginary\tOptional. \n",
    "A number representing the imaginary part of the complex number. Default 0.\n",
    "\n",
    "# More Examples\n",
    "Example: Convert a string into a complex number:"
   ]
  },
  {
   "cell_type": "code",
   "execution_count": null,
   "id": "66cce670",
   "metadata": {},
   "outputs": [],
   "source": [
    "x = complex('3+5j')"
   ]
  },
  {
   "cell_type": "code",
   "execution_count": null,
   "id": "b1d74767",
   "metadata": {},
   "outputs": [],
   "source": [
    "List: list = [\"Element 1\", 2, True]"
   ]
  },
  {
   "cell_type": "code",
   "execution_count": null,
   "id": "18b9e971",
   "metadata": {},
   "outputs": [],
   "source": [
    "Tuple: tuple = (\"Element 1\", 2, False)"
   ]
  },
  {
   "cell_type": "code",
   "execution_count": null,
   "id": "7d9193ac",
   "metadata": {},
   "outputs": [],
   "source": [
    "Range: range_1 = range(1, 10)  # This will give the output of 1, 2, 3... 8, 9"
   ]
  },
  {
   "cell_type": "code",
   "execution_count": null,
   "id": "486d0952",
   "metadata": {},
   "outputs": [],
   "source": [
    "Dictionary: dictionary = {\"color\": \"red\", \"shape\": \"square\"}"
   ]
  },
  {
   "cell_type": "code",
   "execution_count": null,
   "id": "80eb9057",
   "metadata": {},
   "outputs": [],
   "source": [
    "Boolean: boolean = True"
   ]
  },
  {
   "cell_type": "code",
   "execution_count": null,
   "id": "e4d760e4",
   "metadata": {},
   "outputs": [],
   "source": []
  },
  {
   "cell_type": "markdown",
   "id": "23cce929",
   "metadata": {},
   "source": [
    "\n"
   ]
  },
  {
   "cell_type": "code",
   "execution_count": null,
   "id": "2afc4195",
   "metadata": {},
   "outputs": [],
   "source": []
  },
  {
   "cell_type": "code",
   "execution_count": null,
   "id": "fb8dc3fb",
   "metadata": {},
   "outputs": [],
   "source": []
  }
 ],
 "metadata": {
  "kernelspec": {
   "display_name": "Python 3 (ipykernel)",
   "language": "python",
   "name": "python3"
  },
  "language_info": {
   "codemirror_mode": {
    "name": "ipython",
    "version": 3
   },
   "file_extension": ".py",
   "mimetype": "text/x-python",
   "name": "python",
   "nbconvert_exporter": "python",
   "pygments_lexer": "ipython3",
   "version": "3.9.12"
  }
 },
 "nbformat": 4,
 "nbformat_minor": 5
}
