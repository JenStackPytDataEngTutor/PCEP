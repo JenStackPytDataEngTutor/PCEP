{
 "cells": [
  {
   "cell_type": "markdown",
   "id": "8a522d59",
   "metadata": {},
   "source": [
    "# PCEP REVISION TEST SAMPLE EXAM FROM AUGUST 2022"
   ]
  },
  {
   "cell_type": "markdown",
   "id": "926e23cf",
   "metadata": {},
   "source": [
    "This is a copy of a August PCEP Test, please note you will get similar questions but the values may or may not be diffrerent. Its important you practice your understanding of all of the below questions, change the values so you can fully understand. You will see I have added print statments to some of the questions, the print statments will be commented out, when learing python it can be useful to use print statments to follow the value changes particulary with nexted loops."
   ]
  },
  {
   "cell_type": "markdown",
   "id": "bfef06b9",
   "metadata": {},
   "source": [
    "Q1.\n",
    "A set of elementry operations that can be performed by a CPU is called?\n",
    "1. Instruction List IL\n",
    "2. an assembly code\n",
    "3. a binary code\n",
    "4. the ASCII code"
   ]
  },
  {
   "cell_type": "markdown",
   "id": "a84cfaeb",
   "metadata": {},
   "source": [
    "Q 1 another form of question one\n",
    "a word to describe the coupling of words in code sentence\n",
    "1. syntax\n",
    "2. semantics\n",
    "3. lexis"
   ]
  },
  {
   "cell_type": "markdown",
   "id": "3039d370",
   "metadata": {},
   "source": [
    "Q 2. Insert the Code in the correct position which asks the user for a float value, and sssigns it to mass variable.\n",
    "1. :\n",
    "2. ;\n",
    "3. )\n",
    "4. (\n",
    "5. float\n",
    "6. input\n",
    "7. ==\n",
    "8. =\n",
    "9. print\n",
    "10. input\n",
    "11. mass\n",
    "12. (\"enter mass\":)\n",
    "\n",
    "the code is set as follows:\n",
    "mass = and then drag an drop boxes.\n"
   ]
  },
  {
   "cell_type": "code",
   "execution_count": null,
   "id": "6615423e",
   "metadata": {},
   "outputs": [],
   "source": [
    "#answer Q2\n",
    "mass = float(input(\"enter mass:\"))\n",
    "#print(mass)"
   ]
  },
  {
   "cell_type": "markdown",
   "id": "ac498a37",
   "metadata": {},
   "source": [
    "Q 3. sort in the order of highest priority(below not sorted)\n",
    "1. **\n",
    "2. +\n",
    "3. //"
   ]
  },
  {
   "cell_type": "markdown",
   "id": "0674df2c",
   "metadata": {},
   "source": [
    "Q 4. Python is an example of which Programming language category?\n",
    "1. Machine\n",
    "2. interpreted\n",
    "3. assembly\n",
    "4. compiled"
   ]
  },
  {
   "cell_type": "markdown",
   "id": "46f5c77d",
   "metadata": {},
   "source": [
    "Q 5.\n",
    "Sort the code to write a program that asks the user for a string value and assigns it to the answer variable\n",
    "1. =\n",
    "2. \"Enter yes/no:\"\n",
    "3. )\n",
    "4. (\n",
    "5. str\n",
    "6. input\n",
    "7. ==\n"
   ]
  },
  {
   "cell_type": "code",
   "execution_count": null,
   "id": "147f6d1e",
   "metadata": {},
   "outputs": [],
   "source": [
    "#Q 5 answer:\n",
    "\n",
    "answer = input(str(\"enter yes/no :\"))\n",
    "    "
   ]
  },
  {
   "cell_type": "markdown",
   "id": "8cfe68e4",
   "metadata": {},
   "source": [
    "Q 6.  which of the below four code cells will evaluate to 0(select two)"
   ]
  },
  {
   "cell_type": "code",
   "execution_count": null,
   "id": "b5eb630f",
   "metadata": {},
   "outputs": [],
   "source": [
    "2 / -3 * 6 + 4"
   ]
  },
  {
   "cell_type": "code",
   "execution_count": null,
   "id": "034758a1",
   "metadata": {},
   "outputs": [],
   "source": [
    "-3 / 2 * 4 + 1"
   ]
  },
  {
   "cell_type": "code",
   "execution_count": null,
   "id": "4b7472fb",
   "metadata": {},
   "outputs": [],
   "source": [
    "3 ** 2 // 3 /3 -1"
   ]
  },
  {
   "cell_type": "code",
   "execution_count": null,
   "id": "5b1c545e",
   "metadata": {},
   "outputs": [],
   "source": [
    "2 // 2 * 2 + 3"
   ]
  },
  {
   "cell_type": "markdown",
   "id": "95e22b17",
   "metadata": {},
   "source": [
    "Q 7. Drag and drop the data literals to match their data names:\n",
    "    \n",
    "Data Literals:\n",
    "    1. ''/'\n",
    "    2. \"All the Kings's Men\"\n",
    "    3. 42\n",
    "    4. False\n",
    "    5. -6.62607015E-34\n",
    "    \n",
    "Data Types:\n",
    "1. Bool\n",
    "2. string\n",
    "3. float\n",
    "4. int"
   ]
  },
  {
   "cell_type": "code",
   "execution_count": null,
   "id": "23a66045",
   "metadata": {},
   "outputs": [],
   "source": [
    "-6.62607015E-34"
   ]
  },
  {
   "cell_type": "markdown",
   "id": "8cb4eba1",
   "metadata": {},
   "source": [
    "Q. 7 Note:\n",
    "    Python - float()\n",
    "The float() function returns a floating point number object from a number or string containing digits with decimal point or scientific notation (E or e).\n",
    "\n",
    "    >>>float(10)\n",
    "    10.0\n",
    "    >>>float('10.45')\n",
    "    10.45\n",
    "    >>>float('1e-003')\n",
    "    0.001\n",
    "    >>>float('+1E6')\n",
    "    1000000.0"
   ]
  },
  {
   "cell_type": "markdown",
   "id": "662147b3",
   "metadata": {},
   "source": [
    "Q 8. Drag and drop the code below to create a program which outputs *** to the screen\n",
    "start with the below code snippet:\n",
    "\n",
    "        depth = 42 - 84 / 2\n",
    "        if depth > 0:\n",
    "            print(\"*\")\n",
    "        elif-----:\n",
    "            print(\"**\")\n",
    "        elif-----:\n",
    "            print(\"***\")  \n",
    " code to drag and drop into blank spaces:\n",
    " \n",
    "     depth = 0\n",
    "     depth < 0\n",
    "     depth =/= 0\n",
    "     depth == 0"
   ]
  },
  {
   "cell_type": "code",
   "execution_count": null,
   "id": "e3990885",
   "metadata": {},
   "outputs": [],
   "source": [
    "#Q 8 Solution:\n",
    "\n",
    "depth = 42 - 84 / 2\n",
    "if depth > 0:\n",
    "    print(\"*\")\n",
    "elif depth < 0:\n",
    "    print(\"**\")\n",
    "elif depth == 0:\n",
    "    print(\"***\")  "
   ]
  },
  {
   "cell_type": "code",
   "execution_count": null,
   "id": "1da34478",
   "metadata": {},
   "outputs": [],
   "source": [
    "#Q 9\n",
    "floor = 1\n",
    "while floor <= 10:\n",
    "    #print(floor)\n",
    "    floor += floor\n",
    "    print(\"#\")\n",
    "else:\n",
    "    print(\"#\")\n",
    "#returns *, **, ***. *****, none"
   ]
  },
  {
   "cell_type": "code",
   "execution_count": null,
   "id": "b1e411c7",
   "metadata": {},
   "outputs": [],
   "source": [
    "#Q 10\n",
    "\n",
    "total = 0\n",
    "for i in range(4):\n",
    "    if 2 * i < 4:\n",
    "        total += 1\n",
    "        #print(\"I worked\")\n",
    "        #print(total)\n",
    "else:\n",
    "    total += 1\n",
    "print(total)\n",
    "\n",
    "#answers to choose from: the code enters a infinite loop\n",
    "# outputs 3\n",
    "# outputs 2\n",
    "# outputs 1"
   ]
  },
  {
   "cell_type": "code",
   "execution_count": null,
   "id": "bf75bbc8",
   "metadata": {},
   "outputs": [],
   "source": [
    "#Q 11\n",
    "counter = 84 // 2\n",
    "if counter < 0:\n",
    "    print(\"*\")\n",
    "elif counter >= 42:\n",
    "    print(\"**\")\n",
    "else:\n",
    "    print(\"***\")"
   ]
  },
  {
   "cell_type": "code",
   "execution_count": null,
   "id": "287cc1d4",
   "metadata": {},
   "outputs": [],
   "source": [
    "#Q 12 \n",
    "equals = 0\n",
    "for i in range(3):\n",
    "    for j in range (3):\n",
    "        if i == j:\n",
    "            equals += 1\n",
    "        \n",
    "    else:\n",
    "        break\n",
    "print(equals)"
   ]
  },
  {
   "cell_type": "code",
   "execution_count": null,
   "id": "5530755c",
   "metadata": {},
   "outputs": [],
   "source": [
    "#Q 12 breakdown to understand outer and inner loop\n",
    "equals = 0\n",
    "for i in range(3):\n",
    "    for j in range (3):\n",
    "        equals += 1#this executes before print above.\n",
    "    else:\n",
    "        break\n",
    "print(equals)"
   ]
  },
  {
   "cell_type": "code",
   "execution_count": null,
   "id": "7e364e8c",
   "metadata": {},
   "outputs": [],
   "source": [
    "#Q 12 explanation\n",
    "equals = 0\n",
    "for i in range(3):#outer loop returns 2 ints '1' 'inner loop' '2'\n",
    "    print(equals)\n",
    "    print(\"i am outer equals:\", equals)\n",
    "    for j in range (3):#this loop returns 1 2 two times based on outer loop \n",
    "        print(\"i am inner equals:\", equals)\n",
    "        equals += 1#this executes before print above.\n",
    "        print(\"i am inner after adding to equals:\", equals)\n",
    "    else:\n",
    "        break\n",
    "print(\"I am the last equals\", equals)"
   ]
  },
  {
   "cell_type": "markdown",
   "id": "5c8e77df",
   "metadata": {},
   "source": [
    "note:\n",
    "    Nested for Loop\n",
    "If a loop (for loop or while loop) contains another loop in its body block, we say that the two loops are nested. If the outer loop is designed to perform m iterations and the inner loop is designed to perform n repetitions, the body block of the inner loop will get executed m X n times.\n",
    "\n",
    "    Example: Nested for loop Copy\n",
    "    for x in range(1,4):\n",
    "        for y in range(1,3):\n",
    "            print('x = ', x, ', y = ', y) "
   ]
  },
  {
   "cell_type": "code",
   "execution_count": null,
   "id": "d03730c2",
   "metadata": {},
   "outputs": [],
   "source": [
    " for x in range(1,5):#this returns one int, \n",
    "        #1 to 5 and returns the below iteration 4 times.\n",
    "        print(x) \n",
    "        print(\"I am after x\")\n",
    "        for y in range(1,7):#this iteration returns 6 ints 4 times the amount of the outrange\n",
    "            print(y)\n",
    "            print(\"im after y\")\n",
    "            #print('x = ', x, ', y = ', y) "
   ]
  },
  {
   "cell_type": "code",
   "execution_count": null,
   "id": "471bbe37",
   "metadata": {},
   "outputs": [],
   "source": [
    "#Q 13 arrange the code so that a statment is executed when speed variable is less than 50\n",
    "if speed < 50:\n"
   ]
  },
  {
   "cell_type": "code",
   "execution_count": null,
   "id": "d6a71385",
   "metadata": {
    "scrolled": false
   },
   "outputs": [],
   "source": [
    "#Q14\n",
    "speed = 0\n",
    "#while speed < 30:\n",
    "    speed *= 2\n",
    "    if speed > 10:\n",
    "        continue\n",
    "    print(\"*\", end=\"\") \n",
    "else:\n",
    "    print(\"*\")\n",
    "#question how many * print to screen, or is it an infinite loop, or code erronous?\n",
    "#please note ctrl + c stops an infinite loop."
   ]
  },
  {
   "cell_type": "code",
   "execution_count": null,
   "id": "ea1ee966",
   "metadata": {},
   "outputs": [],
   "source": [
    "#Q. 15 Arrange the code to create a loop which executes its body \n",
    "#with the level variable, going through values 5,3,2\n",
    "level = 0\n",
    "for level in range(0, 5, -2):\n",
    "    print(level)\n"
   ]
  },
  {
   "cell_type": "code",
   "execution_count": null,
   "id": "4ec24d1b",
   "metadata": {},
   "outputs": [],
   "source": [
    "#solution\n",
    "for i in range(5, 0, -2):\n",
    "    print(i)"
   ]
  },
  {
   "cell_type": "markdown",
   "id": "81ac8b20",
   "metadata": {},
   "source": [
    "Q 16. what is true about tuples? select two\n",
    "1. tuples are immutable which means that their content cant be changed over its life time\n",
    "2. an empty tuple is writte ()\n",
    "3. tuples can be invoked and sliced like lists.\n",
    "4. the len function can not be applied to tuples"
   ]
  },
  {
   "cell_type": "code",
   "execution_count": 1,
   "id": "33dd68d7",
   "metadata": {},
   "outputs": [
    {
     "name": "stdout",
     "output_type": "stream",
     "text": [
      "3\n"
     ]
    }
   ],
   "source": [
    "tup = (1, 2, 3)\n",
    "print(len(tup))"
   ]
  },
  {
   "cell_type": "code",
   "execution_count": null,
   "id": "fad217eb",
   "metadata": {},
   "outputs": [],
   "source": [
    "#a = tup[:]\n",
    "#print(a)\n",
    "#a = tup[0:3]\n",
    "#print(a)\n",
    "#tup = tup[0:3]\n",
    "#print(tup)\n",
    "#tup = tup[0:1]\n",
    "#print(tup)\n",
    "tup = (1, 2, 3)\n",
    "tup = tup[0:1]\n",
    "print(tup)\n",
    "print(len(tup))\n"
   ]
  },
  {
   "cell_type": "code",
   "execution_count": null,
   "id": "95f1dd08",
   "metadata": {},
   "outputs": [],
   "source": [
    "tup = ()\n",
    "print(type(tup))"
   ]
  },
  {
   "cell_type": "code",
   "execution_count": null,
   "id": "09a8c662",
   "metadata": {},
   "outputs": [],
   "source": [
    "#Q 17\n",
    "collection = []\n",
    "collection.append(1)\n",
    "collection.insert(0, 2)\n",
    "duplicate = collection[:]\n",
    "duplicate.append(3)\n",
    "print(len(duplicate) + len(collection))"
   ]
  },
  {
   "cell_type": "code",
   "execution_count": 2,
   "id": "60b5e058",
   "metadata": {},
   "outputs": [],
   "source": [
    "#Q 18which of the below will not raise any exceptions select two\n",
    "my_list =[1, 1, 2, 3]"
   ]
  },
  {
   "cell_type": "code",
   "execution_count": 3,
   "id": "b2e49792",
   "metadata": {},
   "outputs": [
    {
     "ename": "IndexError",
     "evalue": "list index out of range",
     "output_type": "error",
     "traceback": [
      "\u001b[1;31m---------------------------------------------------------------------------\u001b[0m",
      "\u001b[1;31mIndexError\u001b[0m                                Traceback (most recent call last)",
      "Input \u001b[1;32mIn [3]\u001b[0m, in \u001b[0;36m<cell line: 1>\u001b[1;34m()\u001b[0m\n\u001b[1;32m----> 1\u001b[0m \u001b[43mmy_list\u001b[49m\u001b[43m[\u001b[49m\u001b[38;5;241;43m6\u001b[39;49m\u001b[43m]\u001b[49m\n",
      "\u001b[1;31mIndexError\u001b[0m: list index out of range"
     ]
    }
   ],
   "source": [
    "my_list[6]"
   ]
  },
  {
   "cell_type": "code",
   "execution_count": 4,
   "id": "9403f6dd",
   "metadata": {},
   "outputs": [
    {
     "ename": "IndexError",
     "evalue": "list index out of range",
     "output_type": "error",
     "traceback": [
      "\u001b[1;31m---------------------------------------------------------------------------\u001b[0m",
      "\u001b[1;31mIndexError\u001b[0m                                Traceback (most recent call last)",
      "Input \u001b[1;32mIn [4]\u001b[0m, in \u001b[0;36m<cell line: 1>\u001b[1;34m()\u001b[0m\n\u001b[1;32m----> 1\u001b[0m \u001b[43mmy_list\u001b[49m\u001b[43m[\u001b[49m\u001b[38;5;241;43m-\u001b[39;49m\u001b[38;5;241;43m10\u001b[39;49m\u001b[43m]\u001b[49m\n",
      "\u001b[1;31mIndexError\u001b[0m: list index out of range"
     ]
    }
   ],
   "source": [
    "my_list[-10]"
   ]
  },
  {
   "cell_type": "code",
   "execution_count": null,
   "id": "110ae2dc",
   "metadata": {},
   "outputs": [],
   "source": [
    "my_list[0:1]"
   ]
  },
  {
   "cell_type": "code",
   "execution_count": null,
   "id": "e3df62e5",
   "metadata": {},
   "outputs": [],
   "source": [
    "my_list[my_list[3]]"
   ]
  },
  {
   "cell_type": "code",
   "execution_count": 7,
   "id": "d3670adc",
   "metadata": {},
   "outputs": [
    {
     "name": "stdout",
     "output_type": "stream",
     "text": [
      "(1.4,)\n",
      "(1.4, 1.9)\n"
     ]
    }
   ],
   "source": [
    "#Q 19.\n",
    "rates = (1.2, 1.4, 1.9)\n",
    "new = rates[3:]\n",
    "#print(new)\n",
    "for rate in rates[-2:]:\n",
    "    #print(rate)\n",
    "    #print(new)\n",
    "    new += (rate,)\n",
    "    print(new)\n",
    "#print(len(new))"
   ]
  },
  {
   "cell_type": "code",
   "execution_count": 10,
   "id": "286a7c50",
   "metadata": {},
   "outputs": [],
   "source": [
    "#Q 19 which of the below four evaluates to true?\n",
    "the_list = ['list', False, 3e8]"
   ]
  },
  {
   "cell_type": "code",
   "execution_count": 11,
   "id": "d3c56a69",
   "metadata": {},
   "outputs": [
    {
     "data": {
      "text/plain": [
       "False"
      ]
     },
     "execution_count": 11,
     "metadata": {},
     "output_type": "execute_result"
    }
   ],
   "source": [
    "300 in the_list and the_list[1]"
   ]
  },
  {
   "cell_type": "code",
   "execution_count": 12,
   "id": "b674afc7",
   "metadata": {},
   "outputs": [
    {
     "data": {
      "text/plain": [
       "True"
      ]
     },
     "execution_count": 12,
     "metadata": {},
     "output_type": "execute_result"
    }
   ],
   "source": [
    "the_list[1] in the_list"
   ]
  },
  {
   "cell_type": "code",
   "execution_count": 13,
   "id": "e09ff2c9",
   "metadata": {},
   "outputs": [
    {
     "data": {
      "text/plain": [
       "False"
      ]
     },
     "execution_count": 13,
     "metadata": {},
     "output_type": "execute_result"
    }
   ],
   "source": [
    "int(the_list[2]) == len(the_list)"
   ]
  },
  {
   "cell_type": "code",
   "execution_count": 14,
   "id": "d7de8b81",
   "metadata": {},
   "outputs": [
    {
     "data": {
      "text/plain": [
       "True"
      ]
     },
     "execution_count": 14,
     "metadata": {},
     "output_type": "execute_result"
    }
   ],
   "source": [
    "the_list.index(False) == 1"
   ]
  },
  {
   "cell_type": "code",
   "execution_count": null,
   "id": "4ba118d4",
   "metadata": {},
   "outputs": [],
   "source": [
    "#assuming that the phone dir dictionary contains name:number pairs.\n",
    "#arrange the code boxes to create a valid line of code which adds \n",
    "#olivewr twists phone number (5551122333)\n",
    "phone_dir = {\"oliver twist\": '5551122333'}\n"
   ]
  },
  {
   "cell_type": "code",
   "execution_count": 15,
   "id": "1244a039",
   "metadata": {},
   "outputs": [
    {
     "name": "stdout",
     "output_type": "stream",
     "text": [
      "ppf"
     ]
    }
   ],
   "source": [
    "#Q 22 what is the output of the below program\n",
    "menu = {\"pizza\": 2.39, \"pasta\": 1.99, \"folpetti\": 3.99}\n",
    "for value in menu:\n",
    "    print(str(value)[0], end=\"\")"
   ]
  },
  {
   "cell_type": "markdown",
   "id": "147cf6b2",
   "metadata": {},
   "source": [
    "Q 22 answers select two:\n",
    "1. 'pizzapastefolpetti'\n",
    "2. 213\n",
    "3. The code is erronous\n",
    "4. ppf"
   ]
  },
  {
   "cell_type": "code",
   "execution_count": 16,
   "id": "387ad36c",
   "metadata": {},
   "outputs": [
    {
     "name": "stdout",
     "output_type": "stream",
     "text": [
      "ppf"
     ]
    }
   ],
   "source": [
    "#sample with key as variabe to demo key is not for actual key\n",
    "menu = {\"pizza\": 2.39, \"pasta\": 1.99, \"folpetti\": 3.99}\n",
    "for key in menu:\n",
    "    print(str(key)[0], end=\"\")"
   ]
  },
  {
   "cell_type": "code",
   "execution_count": null,
   "id": "fae107ea",
   "metadata": {},
   "outputs": [],
   "source": [
    "print(type(key))"
   ]
  },
  {
   "cell_type": "markdown",
   "id": "fd791dd4",
   "metadata": {},
   "source": [
    "#Q 23 what is true about exceptions in python?\n",
    "1. not more than one except branch can be executed inside one try except block\n",
    "2. according to Python terminology exceptions are thrown.\n",
    "3. according to Python terminology exceptions are raised.\n",
    "4. Pythons philosophy encourages developers to make all possible efforts to protect the program from the occurrence of an exception.\n",
    "\n"
   ]
  },
  {
   "cell_type": "code",
   "execution_count": 17,
   "id": "784b9ba1",
   "metadata": {},
   "outputs": [
    {
     "name": "stdout",
     "output_type": "stream",
     "text": [
      "30\n"
     ]
    }
   ],
   "source": [
    "#Q 24. what is the expected result of the below code?\n",
    "def velocity(x=10):\n",
    "    return speed + x\n",
    "speed = 10\n",
    "new_speed = velocity()\n",
    "new_speed = velocity(new_speed)\n",
    "print(new_speed)\n",
    "\n",
    "#1. 20\n",
    "#2. 30\n",
    "#3. 10\n",
    "#4. the code is erronous"
   ]
  },
  {
   "cell_type": "code",
   "execution_count": 18,
   "id": "e0085ce6",
   "metadata": {},
   "outputs": [
    {
     "name": "stdout",
     "output_type": "stream",
     "text": [
      "0\n"
     ]
    }
   ],
   "source": [
    "#Q 25. what is the expected output of the below code?\n",
    "def runner(brand, model=\"\", year=2021, convertible=False):\n",
    "    return (brand, str(year), str(convertible))\n",
    "\n",
    "print(runner(model = \"Furious\", brand = \"Ampere\")[1][1])\n",
    "\n",
    "#1. 2021\n",
    "#2. 0\n",
    "#3. the code raises an unhandled exception\n",
    "#4. (\"Ampere\", '2021', 'False')\n"
   ]
  },
  {
   "cell_type": "markdown",
   "id": "aa4e0eee",
   "metadata": {},
   "source": [
    "Q 26. which of the below four snippets correctly define a function which returns its only argument doubled?"
   ]
  },
  {
   "cell_type": "code",
   "execution_count": 19,
   "id": "06daf68e",
   "metadata": {},
   "outputs": [
    {
     "ename": "SyntaxError",
     "evalue": "invalid syntax (3644957808.py, line 2)",
     "output_type": "error",
     "traceback": [
      "\u001b[1;36m  Input \u001b[1;32mIn [19]\u001b[1;36m\u001b[0m\n\u001b[1;33m    def multiply_by_2:\u001b[0m\n\u001b[1;37m                     ^\u001b[0m\n\u001b[1;31mSyntaxError\u001b[0m\u001b[1;31m:\u001b[0m invalid syntax\n"
     ]
    }
   ],
   "source": [
    "#1\n",
    "def multiply_by_2:\n",
    "    value *= 2\n",
    "print(multiply_by_2(6))\n",
    "    "
   ]
  },
  {
   "cell_type": "code",
   "execution_count": 20,
   "id": "ca92c511",
   "metadata": {},
   "outputs": [
    {
     "name": "stdout",
     "output_type": "stream",
     "text": [
      "6\n"
     ]
    }
   ],
   "source": [
    "#2\n",
    "def double(value):\n",
    "    return 2 * value\n",
    "print(double(3))"
   ]
  },
  {
   "cell_type": "code",
   "execution_count": 21,
   "id": "27512d48",
   "metadata": {},
   "outputs": [
    {
     "name": "stdout",
     "output_type": "stream",
     "text": [
      "8\n"
     ]
    }
   ],
   "source": [
    "#3 \n",
    "def times_2(x):\n",
    "    return x + x\n",
    "print(times_2(4))"
   ]
  },
  {
   "cell_type": "code",
   "execution_count": null,
   "id": "2d3500de",
   "metadata": {},
   "outputs": [],
   "source": [
    "#4\n",
    "def 2_timesarg(in):\n",
    "    return 2 * in\n",
    "print(2_timesarg(3))"
   ]
  },
  {
   "cell_type": "code",
   "execution_count": 23,
   "id": "57d30d38",
   "metadata": {},
   "outputs": [
    {
     "name": "stdout",
     "output_type": "stream",
     "text": [
      "2\n"
     ]
    }
   ],
   "source": [
    "#Q 27. \n",
    "def do_the_mess(parameter):\n",
    "    global variable\n",
    "    variable += parameter[0]\n",
    "    #print(variable)\n",
    "    return variable\n",
    "\n",
    "the_list = [x for x in range(2, 3)]\n",
    "#print(the_list)\n",
    "#print(variable)\n",
    "variable = 0\n",
    "#print(variable)\n",
    "\n",
    "do_the_mess(the_list)\n",
    "print(variable)\n",
    "\n",
    "# the code prints 0\n",
    "# the code pints 1\n",
    "# the code pints 2\n",
    "#the code raises an unhandled exception."
   ]
  },
  {
   "cell_type": "code",
   "execution_count": 24,
   "id": "9ca70c07",
   "metadata": {},
   "outputs": [
    {
     "name": "stdout",
     "output_type": "stream",
     "text": [
      "3\n"
     ]
    }
   ],
   "source": [
    "#Q 28. What is the expected output of the below code snippet?\n",
    "def iterate(end, foo = 0):\n",
    "    if end > 0:\n",
    "        foo = iterate(end -1, foo + end)\n",
    "    return foo\n",
    "print(iterate(2))\n",
    "\n",
    "#1. outputs 2\n",
    "#2. outputs 3\n",
    "#3. outputs 0\n",
    "#4. outputs 1\n"
   ]
  },
  {
   "cell_type": "markdown",
   "id": "325c0481",
   "metadata": {},
   "source": [
    "Q 29 which of the following functions can be invoked with two functions?\n",
    "select two correct from the below four code cells"
   ]
  },
  {
   "cell_type": "code",
   "execution_count": null,
   "id": "112c2511",
   "metadata": {},
   "outputs": [],
   "source": [
    "#1\n",
    "def iota(level, size = 0):\n",
    "    pass"
   ]
  },
  {
   "cell_type": "code",
   "execution_count": null,
   "id": "8fcae8cc",
   "metadata": {},
   "outputs": [],
   "source": [
    "#2\n",
    "def mu(None):\n",
    "    pass"
   ]
  },
  {
   "cell_type": "code",
   "execution_count": null,
   "id": "68c1b134",
   "metadata": {},
   "outputs": [],
   "source": [
    "def kappa(level):\n",
    "    pass"
   ]
  },
  {
   "cell_type": "code",
   "execution_count": null,
   "id": "d12a0ae6",
   "metadata": {},
   "outputs": [],
   "source": [
    "def lambda():\n",
    "    pass"
   ]
  },
  {
   "cell_type": "code",
   "execution_count": null,
   "id": "ef313973",
   "metadata": {},
   "outputs": [],
   "source": [
    "#Q 30. drag and drop the code to write a program which prints undefined to the screen.\n",
    "try:\n",
    "    result = 1/ (1-1)\n",
    "except ZeroDivisionError:\n",
    "    result = \"undefined\"\n",
    "print(result)\n",
    "\n",
    " #candidate has a choice between else: or ZeroDivisionError for line 2 of code snippet.   "
   ]
  },
  {
   "cell_type": "code",
   "execution_count": null,
   "id": "838cfb2b",
   "metadata": {},
   "outputs": [],
   "source": []
  }
 ],
 "metadata": {
  "kernelspec": {
   "display_name": "Python 3 (ipykernel)",
   "language": "python",
   "name": "python3"
  },
  "language_info": {
   "codemirror_mode": {
    "name": "ipython",
    "version": 3
   },
   "file_extension": ".py",
   "mimetype": "text/x-python",
   "name": "python",
   "nbconvert_exporter": "python",
   "pygments_lexer": "ipython3",
   "version": "3.9.12"
  }
 },
 "nbformat": 4,
 "nbformat_minor": 5
}
