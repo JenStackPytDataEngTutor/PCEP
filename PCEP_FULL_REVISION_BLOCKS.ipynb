{
 "cells": [
  {
   "cell_type": "code",
   "execution_count": null,
   "id": "0002a496",
   "metadata": {},
   "outputs": [],
   "source": [
    "list_one = [1, 2]\n",
    "list_two = list_one[:]\n",
    "#ist_two.append(3)\n",
    "#list_two.insert(3)\n",
    "print(list_two[-1] + list_one[-1])"
   ]
  },
  {
   "cell_type": "code",
   "execution_count": null,
   "id": "2b6aadf2",
   "metadata": {},
   "outputs": [],
   "source": [
    "numbers = [1, 0.5, 0.25, 0.125]\n",
    "numbers[numbers[0]]"
   ]
  },
  {
   "cell_type": "markdown",
   "id": "994afec0",
   "metadata": {},
   "source": [
    "# Exam block #1: Computer Programming and Python Fundamentals\n",
    "Study Pages\n",
    "\n",
    "Objectives covered by the block:\n",
    "\n",
    "PCEP 1.1 Understand fundamental terms and definitions\n",
    "\n",
    "interpreting and the interpreter, compilation and the compiler, lexis, syntax and semantics\n",
    "PCEP 1.2 Understand Python's logic and structure\n",
    "\n",
    "keywords, instructions, indenting, comments\n",
    "PCEP 1.3 Introduce literals and variables into code and use different numeral systems\n",
    "\n",
    "Boolean, integers, floating-point numbers, scientific notation, strings, binary, octal, decimal, and hexadecimal numeral system, variables, naming conventions, implementing PEP-8 recommendations\n",
    "PCEP 1.4 Choose operators and data types adequate to the problem\n",
    "\n",
    "numeric operators: **, *, /, %, //, +, –, string operators: *, +, assignments and shortcut operators, unary and binary operators, priorities and binding, bitwise operators: ~, &, ^, |, <<, >>, Boolean operators: not, and, or, Boolean expressions, relational operators (==, !=, >, >=, <, <=), the accuracy of floating-point numbers, type casting\n",
    "PCEP 1.5 Perform Input/Output console operations\n",
    "\n",
    "functions: print(), input(), sep= and end= keyword parameters, functions: int() and float()\n",
    "\n",
    "\n"
   ]
  },
  {
   "cell_type": "markdown",
   "id": "605907a0",
   "metadata": {},
   "source": [
    "# Exam block #1: Computer Programming and Python Fundamentals\n",
    "This exam block is the first section that appears in the exam. It constitutes a maximum of 18% of the overall exam score. It contains seven (7) exam items, each graded to a maximum of 20, 30, or 40 points.\n",
    "\n",
    "Specifications\n",
    "\n",
    "1. Section weight: 18%\n",
    "2. Max raw score: 180\n",
    "3. Questions drawn: 7\n",
    "\n",
    "\n",
    "    Question types: \n",
    "    single- and multiple-choice, \n",
    "    drag & drop, sorting, code ordering\n",
    "    Points per question: 4+4+4+4+4, 6+6+6+6+6, 7+6+7 (drag & drop, \n",
    "    sorting, code ordering), 20, 30 (single-choice), 10+10, 20+20, 10+20, (multiple-choice)\n",
    "\n"
   ]
  },
  {
   "cell_type": "markdown",
   "id": "502f2b86",
   "metadata": {},
   "source": [
    "# Understanding fundamental concepts\n",
    "1. A language is a means (and a tool) for expressing and recording thoughts.\n",
    "\n",
    "2. A natural language is a language people use to communicate with each other in everyday life. English, Russian, German, Swahili, and Hindi are examples of natural languages.\n",
    "\n",
    "3. A programming language is a language developed by humans and used to communicate with computers. A programming language has a set of means to instruct a computer what to do and how.\n",
    "\n",
    "4. A high-level programming language is a programming language which operates on a high level of abstraction thereby allowing the developer to ignore the physical details of the computer's hardware, for example the CPU type, memory size and organization, etc. Python, JavaScript, and C/C++ are all examples of high-level programming languages.\n",
    "\n",
    "5. A machine language is a language placed at the lowest level of computer programming. It's a sequence of bits (binary digits usually recognized as 0 and 1) which directly forces the CPU to execute the desired elementary operations.\n",
    "\n",
    "6. An instruction list (abbreviated to IL) is a list of all elementary (atomic) operations which can be executed by a certain CPU. For example, x86 (used in personal computers) and arm (used in mobile devices) processors have different and incompatible instruction lists).\n",
    "\n",
    "7. A source code is a text encoded in any of the programming languages (regardless of the language's level). Usually, the source code is put inside a text file which resides inside the developer's computer filesystem, while the file name's extension reveals the programming language used to write the code (for example, files with names which ends with .py contain Python source code, while the .cpp extension marks files which hold C++ (usually pronounced as see-plus-plus) source code.\n",
    "\n",
    "\n",
    "\n",
    "8. Any language (no matter if it's natural or artificial) is constituted by:\n",
    "an alphabet understood as a set of symbols used to build words of a certain language (e.g. the Latin alphabet for English, the Cyrillic alphabet for Russian, Kanji for Japanese, and so on).\n",
    "a lexis, also known as a dictionary, is a set of words the language offers its users (for example, the word \"chat\" is present both in English and French dictionaries, but its meaning is obviously different).\n",
    "9. syntax is a set of rules used to determine if a certain sequence of words forms a valid sentence.\n",
    "semantics is defined as a set of rules which settle whether or not a certain phrase or sentence makes sense in a given language.\n",
    "\n",
    "10. A source code cannot be directly executed by a computer. To make it possible the source code has to be translated into a machine code accepted by a target computer and its CPU. This task can be done using two different techniques:\n",
    "compilation performed by a one-time translation of the source program; an executable binary file is created in effect – the file can be run at any time without the need to have the source code; the program that performs the above translation is called a compiler or translator.\n",
    "interpretation which involves a dedicated program designed to translate the source program on-the-fly each time it has to be run; the program performing this task is called an interpreter; this means that the interpreter is needed whenever the source code has to be executed.\n",
    "\n",
    "11. A specific programming language is designed to be the object of either compilation or interpretation (this choice imposes certain distinctive features onto the language). For example, Python is an interpreted programming language, while C++ is a compiled one.\n",
    "\n",
    "12. The interpreter and its environment, created and distributed by the Python Software Foundation (PSF) is written mostly in the C programming language. It allows Python to be easily ported and migrated to all platforms providing the ability to compile and run C language programs. This is also why the PSF implementation is often referred to as CPython. CPython is the most widely used implementation of Python.\n",
    "\n"
   ]
  },
  {
   "cell_type": "markdown",
   "id": "31dcd51a",
   "metadata": {},
   "source": [
    "# Python basic types and literals\n",
    "1. A literal is data whose value is determined by the literal itself. Different kinds of data are coded in different ways, enabling Python (and the human reader of the source code) to determine each literal's type. Knowing each argument's type is crucial to understand what operations are legal, and what results can be returned.\n",
    "\n",
    "2. Integer (int for short) is a type dedicated to storing integral numbers, that is, numbers that lack fractional parts. For example, 1 is an integral number and 1.5 is not.\n",
    "\n",
    "3. Most used integer literals in Python consist of a sequence of decimal digits. Such a sequence cannot include white spaces, but can contain any number of _ (underscore) characters. Note: there must not be more than one underscore between two digits, and the underscore must be neither the last nor the first character of the literal. Underscores don't change a literal's value, and their only role is to improve literal readability. Integer literals can be preceded by any number of - (minus) or + (plus) characters, which are applied to set the literal's sign.\n",
    "\n",
    "4. Here are some examples of correct integer literals:\n",
    "        1_111 and 1111 encode the same integer value (one thousand one hundred and eleven)\n",
    "        -+-3 and -3 denote the same integer value (minus three)\n",
    "        +1 and 1 encode the same integer value (one)\n",
    "\n",
    "5. Integer literals may be written using radices other than 10:\n",
    "    if a literal starts with either a 0o or 0O digraph, it's an octal value (note: it must contain octal digits only!)\n",
    "    0o10 encodes an integer value equal to eight.\n",
    "    if a literal starts with either a 0x or 0X digraph, it's a hexadecimal value (note: letters from a to f used as hexadecimal digits may be upper- or lower-case)\n",
    "    0X11 encodes an integer value equal to seventeen.\n",
    "    if a literal starts with either a 0b or 0B digraph, it's a binary value (note: it must contain 0s and 1s only!)\n",
    "    0b111 encodes an integer value equal to seven.\n",
    "\n",
    "\n",
    "\n",
    "6. Floating point (float for short) is a type designed to store real numbers (in the mathematical sense), that is, numbers whose decimal expansion is or can be non-zero. Such a class of numbers includes fractions (integers don't).\n",
    "\n",
    "7. Float literals are distinguished from integers by the fact that they contain a dot (.) or the letter e (lower- or upper-case) or both. If the only digits which exist before or after the dot are zeros, they can be omitted. Like integers, floats can be preceded by any number of - and + characters, which determine the number's sign. White spaces are not allowed, while underscores are.\n",
    "\n",
    "8. If the float literal contains the letter e, it means that its value is scaled, that is, it's multiplied by a power of 10 while the exponent (which must be an integer!) is placed directly after the letter. A record like this:\n",
    "\n",
    "mEn\n",
    "\n",
    "is treated as a value equal to:\n",
    "\n",
    "m × 10n\n",
    "\n",
    "9. This syntax is called scientific notation and is used to denote a number whose absolute value is extremely large (close to infinity) or extremely small (close to zero).\n",
    "\n",
    "\n",
    "\n"
   ]
  },
  {
   "cell_type": "markdown",
   "id": "151a7740",
   "metadata": {},
   "source": [
    "# Here are some examples of correct float literals:\n",
    "1. 1.1 – one and one-tenth\n",
    "2. 1.0 (1. for short) – one point zero\n",
    "3. 0.1 (.1 for short) – one-tenth\n",
    "4. 1E1 – ten point zero\n",
    "5. 1e-1 – one-tenth\n",
    "6. -1.1E-1 – minus eleven hundredths\n"
   ]
  },
  {
   "cell_type": "markdown",
   "id": "f9239fc6",
   "metadata": {},
   "source": [
    "# Python basic types and literals: continued\n",
    "1. String literals are sequences (including empty ones) of characters (digits, letters, punctuation marks, etc.). There are two kinds of string literal:\n",
    "2. single-line, when the string itself begins and ends in the same line of code: these literals are enclosed in a pair of ' (apostrophe) or \" (quote) marks.\n",
    "3. multi-line, when the string may extend to more than one line of code: these literals are enclosed in a pair of trigraphs either \"\"\" or '''\n",
    "4. strings enclosed inside apostrophes can contain quotes, and vice versa.\n",
    "5. if you need to put an apostrophe inside an apostrophe-limited string, or a quote inside a quote-limited string, you must precede them with the \\ (backslash) sign, which acts as an escape character (a character which changes the meaning of the character that follows it); some of the most used escape sequences are:\n",
    "                \\\\ – backslash\n",
    "                \\' – apostrophe\n",
    "                \\\" – quote\n",
    "                \\n – newline character\n",
    "                \\r – carriage return character\n",
    "                \\t – horizontal tab character"
   ]
  },
  {
   "cell_type": "markdown",
   "id": "b3d272ad",
   "metadata": {},
   "source": [
    "1. Here are some examples of correct string literals:\n",
    "\"Hello world\"\n",
    "'Goodbye!'\n",
    "'' (an empty string)\n",
    "\"Python's den\"\n",
    "'Python\\'s den'\n",
    "\"\"\"Two\n",
    "lines\"\"\"\n",
    "\n",
    "2. Boolean literals denote the only two possible values used by the Boolean algebra – their only acceptable denotations are True and False.\n",
    "\n",
    "3. The None literal denotes an empty value and can be used to indicate that a certain item contains no usable value.\n"
   ]
  },
  {
   "cell_type": "raw",
   "id": "c0a9e128",
   "metadata": {},
   "source": [
    "Operators\n",
    "An operator is a symbol that determines an operation to perform. The operator along with its arguments (operands) forms an expression that is subject to evaluation and provides a result.\n",
    "\n",
    "There are three basic groups of operators in Python:\n",
    "1. arithmetic, whose arguments are numbers;\n",
    "2. string, which operates on strings or strings and numbers;\n",
    "3. Boolean, which expects that their arguments are Boolean values.\n",
    "\n",
    "A unary operator is an operator with only one operand.\n",
    "\n",
    "A binary operator is an operator with two operands.\n",
    "\n",
    "1. Unary arithmetic operators\n",
    "Operator               Meaning\t        Example\n",
    "-\t                   Change argument's sign\t-(-2) is equal to 2\n",
    "+\t                   Preserve argument's sign\t+(-2) is equal to -2\n"
   ]
  },
  {
   "cell_type": "raw",
   "id": "6f908fb9",
   "metadata": {},
   "source": [
    "Priority\tOperator\tName\t                Example\t       Meaning\t                       \n",
    "Highest\t      **\t    Exponentiation\t        2 ** 3\t     int if both arguments are intsfloat otherwise      2 pow 3\t 8\n",
    "\n",
    "             *           Multiplication\t         2 * 3\t\tint if both arguments are ints, float otherwise       2 × 3\t 6\n",
    "\n",
    "             /\tDivision\t                   4 / 2\t4 ÷ 2 always float raises ZeroDivisionError divider is zero\t2.0\t\n",
    "\n",
    "\n",
    "             //\t        Integer division\t    5 // 2\t\t2\tint if both arguments are ints float otherwise\n",
    "raises ZeroDivisionError when divider is zero\n",
    "\n",
    "\n",
    "              %\t         Remainder (modulo)\t      5 % 2\t 5 mod 2\t1\tint if both arguments are intsfloat otherwise\n",
    "\n",
    "raises ZeroDivisionError when divider is zero\n",
    "\n",
    "\n",
    "Lowest\t+\tAddition\t2 + 1\t2 + 1\t3\t\n",
    "int if both arguments are ints\n",
    "float otherwise\n",
    "\n",
    "\n",
    "-\tSubtraction\t2 - 1\t2 − 1\t1\t\n",
    "int if both arguments are ints\n",
    "float otherwise\n"
   ]
  },
  {
   "cell_type": "raw",
   "id": "b8fcbd88",
   "metadata": {},
   "source": [
    "pairs of parentheses can be used to change the order of operations, for example:\n",
    "2 + 3 * 4 evaluates to 24\n",
    "(2 + 3) * 4 evaluates to 20\n"
   ]
  },
  {
   "cell_type": "raw",
   "id": "cb608036",
   "metadata": {},
   "source": [
    "when operators of the same priority (other than **)are placed side-by-side in the same expression, they are evaluated from left to right: therefore, the expression:\n",
    "\n",
    "1 / 2 * 2\n",
    "\n",
    "evaluates to 1.0, not to 0.25.\n",
    "\n",
    "This convention is called left-sided binding.\n",
    "\n",
    "when more than one ** operator is placed side-by-side in the same expression, they are evaluated from right to left: therefore, the expression:\n",
    "\n",
    "2 ** 2 ** 3\n",
    "\n",
    "evaluates to 256 (28), not to 64 (43) – this is right-sided binding."
   ]
  },
  {
   "cell_type": "raw",
   "id": "6cb30283",
   "metadata": {},
   "source": [
    "String operators (ordered according to descending priorities)\n",
    "The rules governing the use of operators and parentheses remain the same, and left-sided binding is in effect.\n",
    "\n",
    "Priority\tOperator\tName\tExample\tResult\tResult type\n",
    "Highest\t*\tReplication\t'a' * 3\n",
    "3 * 'a'\t'aaa'\tAlways a string\n",
    "Middle\t+\tConcatenation\t'a' + 'z'\n",
    "'z' + 'a'\t'az'\n",
    "'za'\tAlways a string\n"
   ]
  },
  {
   "cell_type": "raw",
   "id": "362d478c",
   "metadata": {},
   "source": [
    "Boolean operators (ordered according to descending priorities)\n",
    "Boolean operators demand Boolean arguments, and always result in a Boolean result. The rules governing the use of operators and parentheses remain the same, including left-sided binding.\n",
    "\n",
    "Priority\tOperator\tName\tExample\tResult\n",
    "Highest\tnot\tnegation\tnot false\tTrue\n",
    "not True\tFalse\n",
    "Middle\tand\tconjunction\tFalse and False\tFalse\n",
    "False and True\tFalse\n",
    "True and False\tFalse\n",
    "True and True\tTrue\n",
    "Lowest\tor\tdisjunction\tFalse or False\tFalse\n",
    "False or True\tTrue\n",
    "True or False\tTrue\n",
    "True or True\tTrue\n"
   ]
  },
  {
   "cell_type": "raw",
   "id": "93bf5ea1",
   "metadata": {},
   "source": [
    "Relational operators\n",
    "Relational operators compare their arguments to diagnose the relationship between them, and always return a Boolean value indicating the comparison result.\n",
    "\n",
    "Operator\tName\tExample\tResult\n",
    "==\tequal to\t2 == 1\tFalse\n",
    "!=\tnot equal to\t2 != 1\tTrue\n",
    ">\tgreater than\t2 > 1\tTrue\n",
    ">=\tgreater or equal\t2 >= 1\n",
    "1 >= 1\tTrue\n",
    "True\n",
    "<\tless than\t2 < 1\tFalse\n",
    "<=\tless or equal\t2 <= 1\n",
    "1 <= 1\tFalse\n",
    "True\n",
    "\n"
   ]
  },
  {
   "cell_type": "raw",
   "id": "8e18f26d",
   "metadata": {},
   "source": [
    "Variables\n",
    "A variable is a named container able to store data.\n",
    "\n",
    "A variable's name can consist of:\n",
    "letters (including non-Latin ones)\n",
    "digits\n",
    "underscores (_)\n",
    "\n",
    "and must start with a letter (note: underscores count as letters). Upper- and lower-case letters are treated as different.\n",
    "\n",
    "Variable names which start with underscores play a specific role in Python – don't use them unless you know what you're doing.\n",
    "\n",
    "Variable names are not limited in length.\n",
    "\n",
    "The name of the variable must not be any of Python's keywords (also known as reserved words). The complete list of Python 3.8 keywords looks as follows:\n",
    "\n",
    "'False', 'None', 'True', 'and', 'as', \n",
    "'assert', 'async', 'await', 'break', 'class', \n",
    "'continue', 'def', 'del', 'elif', 'else', \n",
    "'except', 'finally', 'for', 'from', 'global', \n",
    "'if', 'import', 'in', 'is', 'lambda', \n",
    "'nonlocal', 'not', 'or', 'pass', 'raise', \n",
    "'return', 'try', 'while', 'with', 'yield'\n",
    "\n",
    "\n",
    "* Note: Python 3.9 introduced a new keyword, __peg_parser__, which is an easter egg related to the rollout of a new PEG parser for CPython. You can read more about this in PEP 617. The keyword will most probably be removed in Python 3.10.\n",
    "\n",
    "These are some legal, but not necessarily the best, Python variable names:\n",
    "i\n",
    "counter_2\n",
    "_\n",
    "Tax22\n",
    "\n",
    "\n",
    "The assignment operator\n",
    "The assignment operator = is designed to assign a value to a variable:\n",
    "\n",
    "variable = expression\n",
    "\n",
    "\n",
    "For example:\n",
    "\n",
    "counter = 0\n",
    "pi2 = 3.1415 ** 2\n",
    "\n",
    "\n",
    "or – when more than one variable is assigned with the same value:\n",
    "\n",
    "variable_1 = variable_2 = ... = expression\n",
    "\n",
    "\n",
    "For example:\n",
    "\n",
    "counter = stages = 0\n",
    "\n",
    "\n",
    "\n",
    "A variable must be assigned (defined) before its first use – using a variable without prior definition (assignment) raises the NameError exception.\n",
    "\n",
    "Python is a dynamically typed language, which means that a variable can freely change its type according to the last assignment it took part in.\n",
    "\n",
    "There are some short-cut (compound) operators which simplify certain kinds of assignments.\n",
    "\n",
    "\n"
   ]
  },
  {
   "cell_type": "raw",
   "id": "761a42f5",
   "metadata": {},
   "source": [
    "Compound operators\n",
    "Compound Arithmetic Operators\n",
    "\n",
    "Operator\tMeaning\tExample\n",
    "variable += expression\tvariable = variable + (expression)\tcounter += 1\n",
    "variable -= expression\tvariable = variable - (expression)\tdue -= ret\n",
    "variable *= expression\tvariable = variable * (expression)\tnext_power *= next_power\n",
    "variable /= expression\tvariable = variable / (expression)\tfraction /= fraction\n",
    "variable //= expression\tvariable = variable // (expression)\talways_one //= always_one\n",
    "variable %= expression\tvariable = variable % (expression)\talways_zero %= 1\n",
    "variable **= expression\tvariable = variable ** (expression)\tsquare_me **= 2\n",
    "\n",
    "Compound String Operators\n",
    "\n",
    "Operator\tMeaning\tExample\n",
    "variable += expression\tvariable = variable + (expression)\theader += '****'\n",
    "variable *= expression\tvariable = variable * (expression)\tdoubled *= 2\n",
    "\n",
    "Note: Boolean operators have no short-cut variants.\n",
    "\n",
    "\n",
    "Comments\n",
    "A part of the code line which starts with hash (#), which is not a part of a string literal, is considered a comment (a part of the code which is ignored by the interpreter)\n",
    "\n",
    "For example, these two lines contain comments:\n",
    "\n",
    "# This is a line which is completely ignored by the Python interpreter.\n",
    "result = True # only part of this line is a comment\n",
    "\n",
    "\n"
   ]
  },
  {
   "cell_type": "markdown",
   "id": "e8152650",
   "metadata": {},
   "source": [
    "Basic Input/Output\n",
    "The input() function is used to interact with the user, allowing them to suspend program execution and to enter a sequence (including an empty one) of characters, which is the function's result.\n",
    "\n",
    "If the user presses <Enter> while providing no other input, the input() function returns an empty string as a result.\n",
    "\n",
    "For example, the name variable is assigned with a string inputted by the user:\n",
    "\n",
    "name = input()\n",
    "\n",
    "\n",
    "\n",
    "The input() function accepts an optional argument which is a string; the argument is printed on the screen before the actual input begins.\n",
    "\n",
    "For example, the user is prompted to input the name:\n",
    "\n",
    "name = input('What is your name?')\n",
    "   \n",
    "\n",
    "\n",
    "\n",
    "To convert the user's input into an integer number, the int() function can be used.\n",
    "\n",
    "An operation during which the data changes its type is called type casting.\n",
    "\n",
    "For example, the user is asked to input a year of birth. The input is converted into an integer number and assigned to the b_year variable:\n",
    "\n",
    "b_year = int(input('What is your year of birth?'))\n",
    "\n",
    "\n",
    "\n",
    "To convert the user's input into a float number, the float() function can be used.\n",
    "\n",
    "For example, the user is asked to input a height measured in meters. The input is converted into a float number and assigned to the m_stature variable:\n",
    "\n",
    "m_stature = float(input('What is your height in meters?'))\n",
    "\n",
    "\n",
    "\n",
    "If the int() or float() is not able to perform the conversion due to the incorrect contents of the user's input, the ValueError exception is raised.\n",
    "\n",
    "\n",
    "\n",
    "Unless otherwise specified, the printed values are separated by single spaces.\n",
    "\n",
    "For example, the following snippet sends 1 2 3 to the screen:\n",
    "\n",
    "print(1, 2, 3)\n",
    "\n",
    "\n",
    "\n",
    "If the invocation makes use of the sep keyword parameter, the parameter's value (even when it's empty) is used to separate outputted values instead of spaces.\n",
    "\n",
    "For example, the following snippet sends 1*2*3 to the screen:\n",
    "\n",
    "print(1, 2, 3, sep='*')\n",
    "\n",
    "\n",
    "\n",
    "Unless otherwise specified, each print() function invocation sends the newline character to the screen before its completion, therefore each print() function's output starts on a new line.\n",
    "\n",
    "For example, the following snippet produces two lines of output on the screen:\n",
    "\n",
    "print('Alpha')\n",
    "print('Bravo')\n",
    "\n",
    "\n",
    "\n",
    "If the invocation makes use of the end keyword parameter, the parameter's value is (even when it's empty) used to complete the output instead of the newline.\n",
    "\n",
    "For example, the following snippet produces one line of output on the screen:\n",
    "\n",
    "print('Alpha', end='')\n",
    "print('Bravo')\n",
    "\n",
    "\n",
    "\n",
    "The end and sep parameters can be used together.\n",
    "\n",
    "For example, the following snippet produces one line of asterisk-separated letters:\n",
    "\n",
    "print('A', 'B', sep='*', end='*')\n",
    "print('C')\n",
    "\n",
    "\n",
    "\n",
    "\n"
   ]
  },
  {
   "cell_type": "code",
   "execution_count": 5,
   "id": "29b52065",
   "metadata": {},
   "outputs": [
    {
     "name": "stdout",
     "output_type": "stream",
     "text": [
      "A B*C\n"
     ]
    }
   ],
   "source": [
    "print('A', 'B', sep=' ', end='*')\n",
    "print('C')"
   ]
  },
  {
   "cell_type": "code",
   "execution_count": null,
   "id": "428a8d45",
   "metadata": {},
   "outputs": [],
   "source": [
    "print(1, 2, 3, sep='*')"
   ]
  },
  {
   "cell_type": "markdown",
   "id": "71755325",
   "metadata": {},
   "source": [
    "# Exam block #2: Control Flow – Conditional Blocks and Loops\n",
    "Study Pages\n",
    "\n",
    "Objectives covered by the block:\n",
    "\n",
    "PCEP 2.1 Make decisions and branch the flow with the if instruction\n",
    "\n",
    "conditional statements: if, if-else, if-elif, if-elif-else,\n",
    "multiple conditional statements,\n",
    "nesting conditional statements.\n",
    "PCEP 2.2 Perform different types of iterations\n",
    "\n",
    "the pass instruction,\n",
    "building loops with while, for, range(), and in,\n",
    "iterating through sequences, expanding loops with while-else and for-else,\n",
    "nesting loops and conditional statements,\n",
    "controlling loop execution with break and continue.\n"
   ]
  },
  {
   "cell_type": "markdown",
   "id": "846ba001",
   "metadata": {},
   "source": [
    "# Exam block #2: Control Flow – Conditional Blocks and Loops\n",
    "This exam block is the second section that appears in the exam. It constitutes a maximum of 28% of the overall exam score. It contains eight (8) exam items, each graded a maximum of 20, 30, or 40 points.\n",
    "\n",
    "Specifications\n",
    "\n",
    "1. Section weight: 28%\n",
    "2. Max raw score: 280\n",
    "3. Questions drawn: 8\n",
    "4. Question types: single- and multiple-choice, drag & drop, sorting, code ordering\n",
    "5. Points per question: 4+4+4+4+4, 6+6+6+6+6, 7+6+7 (drag & drop, sorting, code ordering), 20, 30 (single-choice), 10+10, 20+20, 10+20, (multiple-choice)\n"
   ]
  },
  {
   "cell_type": "markdown",
   "id": "4a908cbd",
   "metadata": {},
   "source": [
    "# Conditional statements\n",
    "The conditional statement (the if statement) is a means allowing the programmer to branch the execution path and to execute (or not) selected instructions when a certain condition is met (or not).\n",
    "\n",
    "The basic form of the if statement looks as follows:\n",
    "\n",
    "if condition:\n",
    "    instructions\n",
    "    \n",
    "\n",
    "The condition is an expression – if it evaluates to True, or to a non-zero numeric value, or to a non-empty string and is not None, it is fulfilled (met), and the nested instructions placed after the if are executed.\n",
    "\n",
    "When the condition is not met, these instructions are skipped.\n",
    "\n",
    "When there is only one instruction that should be executed conditionally, the instruction can be written in the following form:\n",
    "\n",
    "if condition: instruction\n",
    "    \n"
   ]
  },
  {
   "cell_type": "raw",
   "id": "7329269f",
   "metadata": {},
   "source": [
    "For example, the following snippet prints TRUE to the screen:\n",
    "\n",
    "counter = 1\n",
    "if counter > 0:\n",
    "    print('TRUE')\n",
    "    \n",
    "\n",
    "The empty instruction denoted by the pass keyword can be used to indicate that no action should be performed in the specific context. As the if instruction syntax insists that there should be at least one statement after it, the following snippet does not affect program execution:\n",
    "\n",
    "if condition:\n",
    "    pass\n",
    "    "
   ]
  },
  {
   "cell_type": "raw",
   "id": "11a22a4b",
   "metadata": {},
   "source": [
    "It is suggested to use one tabulation character to make one indent level in Python code, while the recommended tab size (settable in virtually all code editors) is 4.\n",
    "\n",
    "The else branch can be used to specify a part of the code that should be executed when the condition is not met:\n",
    "\n",
    "if condition:\n",
    "    instructions\n",
    "else:\n",
    "    instructions"
   ]
  },
  {
   "cell_type": "raw",
   "id": "9b9d63e2",
   "metadata": {},
   "source": [
    "\n",
    "For example, the following snippet prints TRUE when the counter variable is greater than zero, and FALSE otherwise:\n",
    "\n"
   ]
  },
  {
   "cell_type": "code",
   "execution_count": null,
   "id": "4b61beea",
   "metadata": {},
   "outputs": [],
   "source": [
    "if counter > 0:\n",
    "    print('TRUE')\n",
    "else:\n",
    "    print('FALSE')\n",
    "    "
   ]
  },
  {
   "cell_type": "markdown",
   "id": "d1c86143",
   "metadata": {},
   "source": [
    "To check more than one condition within one conditional block, the elif branch or branches may be employed. In that case, not more than one if/elif branch can be executed. The else branch is optional, and must be the last branch.\n",
    "\n",
    "For example, the following snippet prints PLUS when the counter variable is greater than zero, MINUS when it's less than zero, and ZERO when it's equal to zero:\n",
    "\n"
   ]
  },
  {
   "cell_type": "code",
   "execution_count": null,
   "id": "b59361da",
   "metadata": {},
   "outputs": [],
   "source": [
    "if counter > 0:\n",
    "    print('PLUS')\n",
    "elif counter < 0:\n",
    "    print('MINUS')\n",
    "else:\n",
    "    print('ZERO')"
   ]
  },
  {
   "cell_type": "markdown",
   "id": "c062f82d",
   "metadata": {},
   "source": [
    "# Loops\n",
    "The while loop statement is a means allowing the programmer to repeat the execution of the selected part of the code as long the specified condition is true. The condition is checked before the loop's first turn, and therefore the loop's body may not even be executed once.\n",
    "\n",
    "The basic form of the while statement looks as follows:\n",
    "\n",
    "    "
   ]
  },
  {
   "cell_type": "code",
   "execution_count": null,
   "id": "6e75c199",
   "metadata": {},
   "outputs": [],
   "source": [
    "\n",
    "while condition:\n",
    "    instructions"
   ]
  },
  {
   "cell_type": "markdown",
   "id": "e3d82243",
   "metadata": {},
   "source": [
    "The condition is an expression – as long it evaluates to True, or to a non-zero numeric value, or to a non-empty string, it is fulfilled (met) and is not None, the nested instructions placed after the while are executed.\n",
    "\n",
    "When the condition is not met, these instructions are skipped.\n",
    "\n",
    "For example, the following snippet prints TRUE twice to the screen:\n"
   ]
  },
  {
   "cell_type": "code",
   "execution_count": null,
   "id": "aa02a49e",
   "metadata": {},
   "outputs": [],
   "source": [
    "counter = 2\n",
    "if counter > 0:\n",
    "    print('TRUE')\n",
    "    counter -= 1"
   ]
  },
  {
   "cell_type": "code",
   "execution_count": null,
   "id": "45137a6f",
   "metadata": {},
   "outputs": [],
   "source": [
    "\n",
    "#The else branch can be used to specify a part of the code that should be executed when the loop’s condition is not met:\n",
    "\n",
    "while condition:\n",
    "    instructions\n",
    "else:\n",
    "    instructions"
   ]
  },
  {
   "cell_type": "code",
   "execution_count": null,
   "id": "d27c4051",
   "metadata": {},
   "outputs": [],
   "source": [
    "\n",
    "#For example, the following snippet prints TRUE FALSE to the screen:\n",
    "\n",
    "counter = 1\n",
    "while counter > 0:\n",
    "    print('TRUE', end=' ')\n",
    "    counter -= 1\n",
    "else:\n",
    "    print('FALSE')"
   ]
  },
  {
   "cell_type": "markdown",
   "id": "3509d35c",
   "metadata": {},
   "source": [
    "If the condition is met at the beginning of the loop and there is no chance that the condition value has changed inside the body of the loop, the execution enters an infinite loop which cannot be broken without the user's intervention, for example by pressing the Ctrl-C (Ctrl-Break) key combination.\n",
    "\n",
    "For example, the following snippet infinitely prints TRUE to the screen:\n"
   ]
  },
  {
   "cell_type": "code",
   "execution_count": null,
   "id": "e2c34361",
   "metadata": {},
   "outputs": [],
   "source": [
    "while True:\n",
    "    print('TRUE', end=' ')"
   ]
  },
  {
   "cell_type": "markdown",
   "id": "f35859b2",
   "metadata": {},
   "source": [
    "\n",
    "The for loop statement is a means allowing the programmer to repeat the execution of the selected part of the code when the number of repetitions can be determined in advance. The for statement uses a dedicated variable called a control variable, whose subsequent values reflect the status of the iteration.\n",
    "\n",
    "The basic form of the for statement looks as follows:\n",
    "\n",
    "for control_variable in range(from, to, step):\n",
    "    instructions\n"
   ]
  },
  {
   "cell_type": "markdown",
   "id": "36a8c13b",
   "metadata": {},
   "source": [
    "The range() function is a generator responsible for the creation of a series of values starting from from and ending before reaching to, incrementing the current value by step.\n",
    "\n",
    "The invocation range(i,j) is the equivalent of range(i, j, 1)\n",
    "\n",
    "The invocation range(i) is the equivalent of range(0, i)\n",
    "\n",
    "For example, the following snippet prints 0,1,2, to the screen:"
   ]
  },
  {
   "cell_type": "code",
   "execution_count": null,
   "id": "12dd7eba",
   "metadata": {},
   "outputs": [],
   "source": [
    "\n",
    "for i in range(3):\n",
    "    print(i, end=',')"
   ]
  },
  {
   "cell_type": "code",
   "execution_count": null,
   "id": "3ea0e781",
   "metadata": {},
   "outputs": [],
   "source": [
    "#For example, the following snippet prints 2 1 0 to the screen:\n",
    "\n",
    "for i in range(2, -1, -1):\n",
    "    print(i, end=' ')\n"
   ]
  },
  {
   "cell_type": "markdown",
   "id": "5e71cc17",
   "metadata": {},
   "source": [
    "\n",
    "The else branch can be used to specify a part of the code that should be executed when the loop's body is not entered, which may happen when the range being iterated is empty or when all the range's values have already been consumed.\n",
    "\n",
    "For example, the following snippet prints 0 1 2 FINISHED to the screen:\n"
   ]
  },
  {
   "cell_type": "code",
   "execution_count": null,
   "id": "da4bc4fc",
   "metadata": {},
   "outputs": [],
   "source": [
    "for i in range(3):\n",
    "    print(i, end=' ')\n",
    "else:\n",
    "    print('FINISHED')"
   ]
  },
  {
   "cell_type": "markdown",
   "id": "c307da01",
   "metadata": {},
   "source": [
    "For example, the following snippet prints FINISHED to the screen:"
   ]
  },
  {
   "cell_type": "code",
   "execution_count": null,
   "id": "3df94fcc",
   "metadata": {},
   "outputs": [],
   "source": [
    "for i in range(1,1):\n",
    "    print(i, end=' ')\n",
    "else:\n",
    "    print('FINISHED')"
   ]
  },
  {
   "cell_type": "markdown",
   "id": "efeaa732",
   "metadata": {},
   "source": [
    "\n",
    "The break statement can be used inside the loop's body only, and causes immediate termination of the loop's code. If the loop is equipped with the else branch, it is omitted.\n",
    "\n",
    "For example, these two snippets print 0 1 to the screen:\n"
   ]
  },
  {
   "cell_type": "code",
   "execution_count": null,
   "id": "ba39f6f3",
   "metadata": {},
   "outputs": [],
   "source": [
    "\n",
    "# break inside for\n",
    "for i in range(3):\n",
    "    if i == 2:\n",
    "        break\n",
    "    print(i, end=' ')\n",
    "else:\n",
    "    print('FINISHED')\n"
   ]
  },
  {
   "cell_type": "code",
   "execution_count": null,
   "id": "3aa6b3fc",
   "metadata": {},
   "outputs": [],
   "source": [
    "\n",
    "# break inside while\n",
    "i = 1\n",
    "while True:\n",
    "    print(i, end=' ')\n",
    "    i += 1\n",
    "    if i == 3:\n",
    "        break    \n",
    "else:\n",
    "    print('FINISHED')\n"
   ]
  },
  {
   "cell_type": "markdown",
   "id": "79bc2568",
   "metadata": {},
   "source": [
    "\n",
    "The continue statement can be used inside the loop's body only, and causes an immediate transition to the next iteration of the for loop, or to the while loop's condition check.\n",
    "\n",
    "For example, these two snippets print 0 2 FINISHED to the screen:\n"
   ]
  },
  {
   "cell_type": "code",
   "execution_count": null,
   "id": "8397c365",
   "metadata": {},
   "outputs": [],
   "source": [
    "# continue inside for\n",
    "for i in range(4):\n",
    "    if i % 2 == 1:\n",
    "        continue\n",
    "    print(i, end=' ')\n",
    "else:\n",
    "    print('FINISHED')"
   ]
  },
  {
   "cell_type": "code",
   "execution_count": null,
   "id": "145becc8",
   "metadata": {},
   "outputs": [],
   "source": [
    "# continue inside while\n",
    "i = -1\n",
    "while i < 3:\n",
    "    i += 1\n",
    "    if i % 2 != 0:\n",
    "        continue\n",
    "    print(i, end=' ')\n",
    "else:\n",
    "    print('FINISHED')"
   ]
  },
  {
   "cell_type": "markdown",
   "id": "3e520c1d",
   "metadata": {},
   "source": [
    "# Exam block #3: Data Collections – Tuples, Dictionaries, Lists, and Strings\n",
    "Study Pages\n",
    "\n",
    "Objectives covered by the block:\n",
    "\n",
    "PCEP 3.1 Collect and process data using lists\n",
    "\n",
    "constructing vectors, indexing and slicing, the len() function, basic list methods (append(), insert(), index()) and functions (len(), sorted(), etc.), the del instruction; iterating through lists with the for loop, initializing loops; in and not in operators, list comprehensions; copying and cloning, lists in lists: matrices and cubes.\n",
    "PCEP 3.2 Collect and process data using tuples\n",
    "\n",
    "tuples: indexing, slicing, building, immutability; tuples vs. lists: similarities and differences, lists inside tuples and tuples inside lists.\n",
    "PCEP 3.3 Collect and process data using dictionaries\n",
    "\n",
    "dictionaries: building, indexing, adding and removing keys; iterating through dictionaries and their keys and values, checking the existence of keys; keys(), items() and values() methods.\n",
    "PCEP 3.4 Operate with strings\n",
    "\n",
    "constructing strings, indexing, slicing, immutability; escaping using the \\ character; quotes and apostrophes inside strings, multi-line strings, basic string functions and methods.\n"
   ]
  },
  {
   "cell_type": "markdown",
   "id": "5c2c4d53",
   "metadata": {},
   "source": [
    "# Data Collections – Tuples, Dictionaries, Lists, and Strings\n",
    "This exam block is the third section that appears in the exam. It constitutes a maximum of 25% of the overall exam score. It contains seven (7) exam items, each graded to a maximum of 20, 30, or 40 points.\n",
    "\n",
    "## Specifications\n",
    "\n",
    "1. Section weight: 25%\n",
    "2. Max raw score: 250\n",
    "3. Questions drawn: 7\n",
    "4. Question types: single- and multiple-choice, drag & drop, sorting, code ordering\n",
    "5. Points per question: 4+4+4+4+4, 6+6+6+6+6, 7+6+7 (drag & drop, sorting, code ordering), 20, 30 (single-choice), 10+10, 20+20, 10+20, (multiple-choice)"
   ]
  },
  {
   "cell_type": "markdown",
   "id": "2b614eb6",
   "metadata": {},
   "source": [
    "# Lists\n",
    "1. A list is a data aggregate that contains a certain number (including zero) of elements of any type.\n",
    "\n",
    "2. Lists are sequences – they can be iterated, and the order of the elements is established.\n",
    "\n",
    "3. Lists are mutable – their contents may be changed.\n",
    "\n",
    "4. Lists can be initialized with list literals. For example, these two assignments instantiate two lists – the former is empty, while the latter contains three elements:\n"
   ]
  },
  {
   "cell_type": "markdown",
   "id": "203c89b4",
   "metadata": {},
   "source": [
    "\n",
    "The number of elements contained in the list can be determined by the len() function. For example, the following snippet prints 3 to the screen:\n",
    "\n",
    "\n"
   ]
  },
  {
   "cell_type": "code",
   "execution_count": null,
   "id": "20020d49",
   "metadata": {},
   "outputs": [],
   "source": [
    "print(len(['a', 'b', 'c'])"
   ]
  },
  {
   "cell_type": "markdown",
   "id": "4bcd3ff5",
   "metadata": {},
   "source": [
    "Any of the list's elements can be accessed using indexing. List elements are indexed by integer numbers starting from zero. Therefore, the first list element's index is 0 while the last element's index is equal to the list length minus 1. Using indices that are not integers raises the TypeError exception. For example, the following snippet prints a b c 0 1 2 to the screen:\n",
    "\n"
   ]
  },
  {
   "cell_type": "code",
   "execution_count": null,
   "id": "dea49de4",
   "metadata": {},
   "outputs": [],
   "source": [
    "the_list = ['a', 'b', 'c']\n",
    "counter = 0\n",
    "for ix in range(len(the_list)):\n",
    "    print(the_list[ix], end=' ')\n",
    "    the_list[ix] = counter\n",
    "    counter += 1\n",
    "for ix in range(len(the_list)):\n",
    "    print(the_list[ix], end=' ')"
   ]
  },
  {
   "cell_type": "markdown",
   "id": "49cb20e7",
   "metadata": {},
   "source": [
    "The list elements can be indexed with negative numbers, too. In this case, -1 accesses the last element of the list, and -2 accesses the one before the last, and so on. The alternative first list element's index is -len(list).\n",
    "\n",
    "An attempt to access a non-existent list element (when the index goes out of the permissible range) raises the IndexError exception.\n",
    "\n",
    "A slice is a means by which the programmer can create a new list using a part of the already existing list.\n",
    "\n",
    "The most general slice looks as follows:"
   ]
  },
  {
   "cell_type": "code",
   "execution_count": null,
   "id": "7b7653a1",
   "metadata": {},
   "outputs": [],
   "source": [
    "the_list[from:to:step]"
   ]
  },
  {
   "cell_type": "markdown",
   "id": "e1715783",
   "metadata": {},
   "source": [
    "and selects those elements whose indices start at from, don't exceed to, and change with step. For example, the following snippet prints ['b', 'd'] to the screen:\n"
   ]
  },
  {
   "cell_type": "code",
   "execution_count": null,
   "id": "c3b57fbd",
   "metadata": {},
   "outputs": [],
   "source": [
    "\n",
    "print((1,2,3)[4:5])"
   ]
  },
  {
   "cell_type": "markdown",
   "id": "8b29e44c",
   "metadata": {},
   "source": [
    "\n",
    "### The following assumptions are made regarding the slices:\n",
    "1. the_list[from:to] is equivalent to the_list[from:to:1]\n",
    "2. the_list[:to] is equivalent to the_list[0:to]\n",
    "3. the_list[from:] is equivalent to the_list[from:len(the_list)-1]\n",
    "4. the_list[:] is equivalent to the_list[0:len(the_list)-1]\n",
    "\n",
    "Slices – like indices – can take negative values. For example, the following snippet prints [1,2] to the screen:\n"
   ]
  },
  {
   "cell_type": "code",
   "execution_count": null,
   "id": "3373b519",
   "metadata": {},
   "outputs": [],
   "source": [
    "the_list = [0, 1, 2, 3]\n",
    "print(the_list[-3:4])\n"
   ]
  },
  {
   "cell_type": "code",
   "execution_count": null,
   "id": "f714f347",
   "metadata": {},
   "outputs": [],
   "source": [
    "a = [1, 2, 3]\n",
    "b = a[:]\n",
    "\n",
    "print(b)"
   ]
  },
  {
   "cell_type": "markdown",
   "id": "88a1bf7d",
   "metadata": {},
   "source": [
    "# Lists and strings\n",
    "If any of the slice's indices exceeds the allowable range, no exception is raised, and the non-existent elements are not taken into consideration. Therefore, it is possible that the resulting slice is an empty list.\n",
    "\n",
    "Assigning a list to a list does not copy elements. Such an assignment results in a situation when more than one name identifies the same data aggregate."
   ]
  },
  {
   "cell_type": "code",
   "execution_count": null,
   "id": "7718a185",
   "metadata": {},
   "outputs": [],
   "source": [
    "#For example, the following snippet prints True to the screen:\n",
    "\n",
    "list_a = [1]\n",
    "list_b = list_a\n",
    "list_b[0] = 0\n",
    "print(list_a[0] == list_b[0])\n"
   ]
  },
  {
   "cell_type": "code",
   "execution_count": null,
   "id": "5a4c3f29",
   "metadata": {},
   "outputs": [],
   "source": [
    "\n",
    "#As the slice is a copy of the source list, the following snippet prints False to the screen:\n",
    "\n",
    "list_a = [1]\n",
    "list_b = list_a[:]\n",
    "list_b[0] = 0\n",
    "print(list_a[0] == list_b[0])"
   ]
  },
  {
   "cell_type": "markdown",
   "id": "f1784fe1",
   "metadata": {},
   "source": [
    "\n",
    "The .append(element) method can be used to append an element to the end of an existing list. For example, the following snippet outputs [1] to the screen:\n"
   ]
  },
  {
   "cell_type": "code",
   "execution_count": null,
   "id": "cfd269f6",
   "metadata": {},
   "outputs": [],
   "source": [
    "the_list = [1, 2, 3]\n",
    "the_list.append(5)\n",
    "print(the_list)\n"
   ]
  },
  {
   "cell_type": "markdown",
   "id": "08518ff9",
   "metadata": {},
   "source": [
    "\n",
    "The .insert(at_index, element) method can be used to insert the element at the at_index of the existing list. For example, the following snippet outputs [2, 1] to the screen:\n"
   ]
  },
  {
   "cell_type": "code",
   "execution_count": null,
   "id": "7bca850a",
   "metadata": {},
   "outputs": [],
   "source": [
    "the_list = [1, 3, 5]\n",
    "the_list.insert(2, 2)\n",
    "print(the_list)\n"
   ]
  },
  {
   "cell_type": "markdown",
   "id": "4c237c56",
   "metadata": {},
   "source": [
    "\n",
    "\n",
    "The del the_list[index] instruction can be used to remove any of the existing list elements. For example, the following snippet prints [] to the screen:\n"
   ]
  },
  {
   "cell_type": "code",
   "execution_count": null,
   "id": "d486eca1",
   "metadata": {},
   "outputs": [],
   "source": [
    "the_list = [1]\n",
    "del the_list[0]\n",
    "print(the_list)"
   ]
  },
  {
   "cell_type": "markdown",
   "id": "42be050d",
   "metadata": {},
   "source": [
    "\n",
    "The in and not in operators can check whether any value is contained inside the list or not. For example, the following snippet prints True False to the screen:\n",
    "\n"
   ]
  },
  {
   "cell_type": "code",
   "execution_count": null,
   "id": "5a908865",
   "metadata": {},
   "outputs": [],
   "source": [
    "the_list = [1, 'a']\n",
    "print('a' in the_list, 1 not in the_list)"
   ]
  },
  {
   "cell_type": "markdown",
   "id": "781200d4",
   "metadata": {},
   "source": [
    "\n",
    "Lists can be iterated through (traversed) by the for loop, which allows the programmer to scan all their elements without the use of explicit indexing. For example, the following snippet prints 1 2 3 to the screen:\n"
   ]
  },
  {
   "cell_type": "code",
   "execution_count": null,
   "id": "f0416705",
   "metadata": {},
   "outputs": [],
   "source": [
    "\n",
    "the_list = [1,2,3]\n",
    "for element in the_list:\n",
    "    print(element, end='')\n"
   ]
  },
  {
   "cell_type": "markdown",
   "id": "978139c4",
   "metadata": {},
   "source": [
    "\n",
    "List comprehension allows the programmer to construct lists in a compact way. For example, the following snippet prints [1,2,3] to the screen:\n",
    "\n"
   ]
  },
  {
   "cell_type": "code",
   "execution_count": null,
   "id": "9f416441",
   "metadata": {},
   "outputs": [],
   "source": [
    "the_list = [x for x in range(1,4)]\n",
    "print(the_list)"
   ]
  },
  {
   "cell_type": "markdown",
   "id": "fdccb3e8",
   "metadata": {},
   "source": [
    "\n",
    "Strings, like lists, are sequences, and in many contexts they behave like lists, especially when they are indexed and sliced or are arguments of the len() function.\n",
    "\n",
    "The in and not in operators can be applied to strings to check if any string is a part of another string. An empty string is considered a part of any string, including an empty one.\n",
    "\n",
    "Strings are immutable and their contents cannot be changed.\n"
   ]
  },
  {
   "cell_type": "markdown",
   "id": "15f34d13",
   "metadata": {},
   "source": [
    "# Tuples\n",
    "1. A tuple, like a list, is a data aggregate that contains a certain number (including zero) of elements of any type. Tuples, like lists, are sequences, but they are immutable. You're not allowed to change any of the tuple elements, or add a new element, or remove an existing element. Attempting to break this rule will raise the TypeError exception.\n",
    "\n",
    "2. Tuples can be initialized with tuple literals. For example, these assignments instantiate three tuples – one empty, one one-element, and one two-element:"
   ]
  },
  {
   "cell_type": "code",
   "execution_count": null,
   "id": "19c006c2",
   "metadata": {},
   "outputs": [],
   "source": [
    "empty_tuple = ()\n",
    " # tuple() has the same meaning"
   ]
  },
  {
   "cell_type": "code",
   "execution_count": null,
   "id": "d6f3663f",
   "metadata": {},
   "outputs": [],
   "source": [
    "one_element_tuple = tuple(1) # must not be replaced with (1)!"
   ]
  },
  {
   "cell_type": "code",
   "execution_count": null,
   "id": "94e221aa",
   "metadata": {},
   "outputs": [],
   "source": [
    "two_element_tuple = (1, 2.5)"
   ]
  },
  {
   "cell_type": "code",
   "execution_count": null,
   "id": "6e76dd40",
   "metadata": {},
   "outputs": [],
   "source": [
    "two_element_tuple = 1, 2.5 # the same effect as above"
   ]
  },
  {
   "cell_type": "code",
   "execution_count": null,
   "id": "5710dcfa",
   "metadata": {},
   "outputs": [],
   "source": [
    "one_element_tuple = 1, # the same effect as above"
   ]
  },
  {
   "cell_type": "markdown",
   "id": "2aa07664",
   "metadata": {},
   "source": [
    "3. The number of elements contained in the tuple can be determined by the len() function. For example, the following snippet prints 4 to the screen:"
   ]
  },
  {
   "cell_type": "code",
   "execution_count": null,
   "id": "7e0f4f47",
   "metadata": {},
   "outputs": [],
   "source": [
    "a = (1, 2.2, '3', True)\n",
    "print(len(a))"
   ]
  },
  {
   "cell_type": "markdown",
   "id": "9950e976",
   "metadata": {},
   "source": [
    "Note the inner pair of parentheses – they cannot be omitted, as it will cause the tuple to be replaced with four independent values and will cause an error.\n",
    "\n",
    "4. Any of the tuple's elements can be accessed using indexing, which works in the same manner as in lists, including slicing.\n",
    "\n",
    "5. An attempt to access a non-existent tuple element raises the IndexError exception."
   ]
  },
  {
   "cell_type": "markdown",
   "id": "7dfe8a3d",
   "metadata": {},
   "source": [
    "6. If any of the slice's indices exceeds the permissible range, no exception is raised, and the non-existent elements are not taken into consideration. Therefore, the resulting slice may be an empty tuple. For example, the following snippet outputs () to the screen:"
   ]
  },
  {
   "cell_type": "code",
   "execution_count": null,
   "id": "64153c0c",
   "metadata": {},
   "outputs": [],
   "source": [
    "print((1,2,3)[4:5])"
   ]
  },
  {
   "cell_type": "markdown",
   "id": "3a08750f",
   "metadata": {},
   "source": [
    "7. The in and not in operators can check whether or not any value is contained inside the tuple.\n",
    "\n",
    "8. Tuples can be iterated through (traversed) by the for loop, like lists.\n",
    "\n",
    "9. The + operator joins tuples together.\n",
    "\n",
    "10. The * operator multiplies tuples, just like lists."
   ]
  },
  {
   "cell_type": "markdown",
   "id": "4155b544",
   "metadata": {},
   "source": [
    "# Dictionaries\n",
    "1. A dictionary is a data aggregate that gathers pairs of values. The first element in each pair is called the key, and the second one is called the value. Both keys and values can be of any type.\n",
    "\n",
    "2. Dictionaries are mutable but are not sequences – the order of pairs is imposed by the order in which the keys are entered into the dictionary.\n",
    "\n",
    "3. Dictionaries can be initialized with dictionary literals. For example, these assignments instantiate two dictionaries – one empty and one containing two key:value pairs: "
   ]
  },
  {
   "cell_type": "code",
   "execution_count": null,
   "id": "738e2cea",
   "metadata": {},
   "outputs": [],
   "source": [
    "empty_dictionary = {}\n",
    "phone_directory = {'Emergency': 911, 'Speaking Clock': 767}"
   ]
  },
  {
   "cell_type": "markdown",
   "id": "4b568806",
   "metadata": {},
   "source": [
    "# Dictionaries – continued\n",
    "4. Accessing a dictionary's value requires the use of its key. For example, the following line outputs 911 to the screen:"
   ]
  },
  {
   "cell_type": "code",
   "execution_count": null,
   "id": "7abe3bd9",
   "metadata": {},
   "outputs": [],
   "source": [
    "print(phone_directory['Emergency'])"
   ]
  },
  {
   "cell_type": "markdown",
   "id": "c0c45b4b",
   "metadata": {},
   "source": [
    "5. An attempt to access an element whose key is absent in the dictionary raises the KeyError exception.\n",
    "\n",
    "6. The in and not in operators can be used to check whether a certain key exists in the dictionary. For example, the following line prints True False to the screen:"
   ]
  },
  {
   "cell_type": "code",
   "execution_count": null,
   "id": "5ae026f7",
   "metadata": {},
   "outputs": [],
   "source": [
    "print('Emergency' in phone_directory, 'White House' in phone_directory)"
   ]
  },
  {
   "cell_type": "markdown",
   "id": "d5b19c2f",
   "metadata": {},
   "source": [
    "\n",
    "7. The len() function returns the number of pairs contained in the directory. For example, the following line outputs 0 to the screen:\n"
   ]
  },
  {
   "cell_type": "code",
   "execution_count": null,
   "id": "985f6a06",
   "metadata": {},
   "outputs": [],
   "source": [
    "print(len(phone_directory))"
   ]
  },
  {
   "cell_type": "markdown",
   "id": "267f9196",
   "metadata": {},
   "source": [
    "\n",
    "8. Changing a value of the existing key is done by an assignment. For example, the following snippet outputs False to the screen:\n"
   ]
  },
  {
   "cell_type": "code",
   "execution_count": null,
   "id": "6863c561",
   "metadata": {},
   "outputs": [],
   "source": [
    "attendance = {'Bob': True}\n",
    "attendance['Bob'] = False\n",
    "print(attendance['Bob'])"
   ]
  },
  {
   "cell_type": "markdown",
   "id": "25e35ba9",
   "metadata": {},
   "source": [
    "9. Adding a new pair to the dictionary resembles a regular assignment. For example, the following snippet outputs 2 to the screen:\n"
   ]
  },
  {
   "cell_type": "code",
   "execution_count": null,
   "id": "95c7f448",
   "metadata": {},
   "outputs": [],
   "source": [
    "domains = {'au': 'Australia'}\n",
    "domains['at'] = 'Austria'\n",
    "print(len(domains))"
   ]
  },
  {
   "cell_type": "markdown",
   "id": "79c3ee60",
   "metadata": {},
   "source": [
    "\n",
    "10. Removing a pair from a dictionary is done with the del instruction. For example, the following snippet outputs 0 to the screen:"
   ]
  },
  {
   "cell_type": "code",
   "execution_count": null,
   "id": "574215e7",
   "metadata": {},
   "outputs": [],
   "source": [
    "currencies = {'USD': 'United States dollar'}\n",
    "del currencies['USD']\n",
    "print(len(currencies))"
   ]
  },
  {
   "cell_type": "markdown",
   "id": "0efca94e",
   "metadata": {},
   "source": [
    "11. When iterated through by the for loop, the dictionary displays only its keys. For example, the following snippet outputs A B to the screen:"
   ]
  },
  {
   "cell_type": "code",
   "execution_count": null,
   "id": "1e0d5f91",
   "metadata": {},
   "outputs": [],
   "source": [
    "\n",
    "phonetic = {'A': 'Alpha', 'B': 'Bravo'}\n",
    "for key in phonetic:\n",
    "    print(key, end=' ')"
   ]
  },
  {
   "cell_type": "markdown",
   "id": "63cacca6",
   "metadata": {},
   "source": [
    "\n",
    "12. The .keys() method returns a list of keys contained in the dictionary. For example, the following snippet outputs A B to the screen:"
   ]
  },
  {
   "cell_type": "code",
   "execution_count": null,
   "id": "2e5261d5",
   "metadata": {},
   "outputs": [],
   "source": [
    "phonetic = {'A': 'Alpha', 'B': 'Bravo'}\n",
    "for key in phonetic.keys():\n",
    "    print(key, end=' ')"
   ]
  },
  {
   "cell_type": "markdown",
   "id": "877a3600",
   "metadata": {},
   "source": [
    "\n",
    "13. The .values() method returns a list of values contained in the dictionary. For example, the following snippet outputs Alpha Bravo to the screen:"
   ]
  },
  {
   "cell_type": "code",
   "execution_count": null,
   "id": "e4d84274",
   "metadata": {},
   "outputs": [],
   "source": [
    "phonetic = {'A': 'Alpha', 'B': 'Bravo'}\n",
    "for value in phonetic.values():\n",
    "    print(value, end=' ')"
   ]
  },
  {
   "cell_type": "markdown",
   "id": "e6c714b9",
   "metadata": {},
   "source": [
    "\n",
    "14. The .items() method returns a list of two-element tuples, each filled with key:value pairs. For example, the following snippet outputs ('A', 'Alpha') ('B', 'Bravo') to the screen:\n"
   ]
  },
  {
   "cell_type": "code",
   "execution_count": null,
   "id": "51023a6f",
   "metadata": {},
   "outputs": [],
   "source": [
    "phonetic = {'A': 'Alpha', 'B': 'Bravo'}\n",
    "for item in phonetic.items():\n",
    "    print(item, end=' ')"
   ]
  },
  {
   "cell_type": "markdown",
   "id": "80e033ff",
   "metadata": {},
   "source": [
    "# Exam block #4: Functions and Exceptions\n",
    "## Study Pages\n",
    "\n",
    "# Objectives covered by the block:\n",
    "\n",
    "# PCEP 4.1 Decompose the code using functions\n",
    "defining and invoking user-defined functions and generators; the return keyword, returning results, the None keyword, recursion.\n",
    "\n",
    "# PCEP 4.2 Organize interaction between the function and its environment\n",
    "parameters vs. arguments; positional, keyword and mixed argument passing; default parameter values, name scopes, name hiding (shadowing), the global keyword.\n",
    "\n",
    "# PCEP 4.3 Python Built-In Exceptions Hierarchy\n",
    "BaseException, Exception, SystemExit, KeyboardInterrupt, abstract exceptions, ArithmeticError, LookupError along with IndexError and KeyError; TypeError and ValueError exceptions, the AssertError exception along with the assert keyword.\n",
    "\n",
    "# PCEP 4.4 Basics of Python Exception Handling\n",
    "try-except, try-except Exception, ordering the except branches, propagating exceptions through function boundaries; delegating responsibility for handling exceptions.\n"
   ]
  },
  {
   "cell_type": "markdown",
   "id": "08f29a3f",
   "metadata": {},
   "source": [
    "# Functions and Exceptions\n",
    "This exam block is the fourth and last section that appears in the exam. It constitutes a maximum of 28% of the overall exam score. It contains eight (8) exam items, each graded to a maximum of 20, 30, or 40 points.\n",
    "\n",
    "## Specifications\n",
    "\n",
    "1. Section weight: 28%\n",
    "2. Max raw score: 280\n",
    "3. Questions drawn: 8\n",
    "4. Question types: single- and multiple-choice, drag & drop, sorting, code ordering\n",
    "5. Points per question: 4+4+4+4+4, 6+6+6+6+6, 7+6+7 (drag & drop, sorting, code ordering), 20, 30 (single-choice), 10+10, 20+20, 10+20, (multiple-choice)\n",
    "\n",
    "\n"
   ]
  },
  {
   "cell_type": "markdown",
   "id": "bed1fcd0",
   "metadata": {},
   "source": [
    "# Functions\n",
    "1. A function is a named, separate part of the code that can be activated on demand. A function can perform an action, or return a result, or both.\n",
    "\n",
    "2. The simplest function, which does nothing and returns no result, can be defined in the following way:"
   ]
  },
  {
   "cell_type": "code",
   "execution_count": null,
   "id": "0337e25a",
   "metadata": {},
   "outputs": [],
   "source": [
    "def lazy(a, b):\n",
    "    pass"
   ]
  },
  {
   "cell_type": "markdown",
   "id": "3e8d74c4",
   "metadata": {},
   "source": [
    "3. Activating a function is done by the function invocation (function call). The lazy() function defined above can be invoked by the following clause:"
   ]
  },
  {
   "cell_type": "code",
   "execution_count": null,
   "id": "2ff16d38",
   "metadata": {},
   "outputs": [],
   "source": [
    "lazy(1,2)"
   ]
  },
  {
   "cell_type": "markdown",
   "id": "4f7ec92b",
   "metadata": {},
   "source": [
    "4. Function definition must precede its invocation. Breaking this rule raises the NameError exception.\n",
    "\n",
    "5. A function can be equipped with an arbitrary number of parameters. The parameters behave like variables known inside the function only, and their values are set during the invocation. The invocation must provide as many arguments as needed to initialize all parameters. Breaking this rule results in raising the TypeError exception.\n",
    "\n",
    "6. If a function is supposed to evaluate a result, it must perform the return expression instruction, which immediately terminates function execution and causes the function to return the expression value to the invoker. If the function does not execute the instruction, or utilizes return without an expression, the None value is returned implicitly. For example, the following snippet prints True None to the screen:\n"
   ]
  },
  {
   "cell_type": "code",
   "execution_count": null,
   "id": "a846bf96",
   "metadata": {},
   "outputs": [],
   "source": [
    "def function(parameter):\n",
    "    if parameter == False:\n",
    "        return True\n",
    "\n",
    "\n",
    "print(function(False), function(True))"
   ]
  },
  {
   "cell_type": "markdown",
   "id": "48de3a96",
   "metadata": {},
   "source": [
    "7. A function definition can declare default values for some or all of its parameters. When the invocation does not provide arguments for these parameters, the default values are taken into consideration. Note: parameters with default values must not precede the ones without them. For example, the following snippet prints True False to the screen:"
   ]
  },
  {
   "cell_type": "code",
   "execution_count": null,
   "id": "1576a1cd",
   "metadata": {},
   "outputs": [],
   "source": [
    "def function(parameter = False):\n",
    "    return parameter\n",
    "\n",
    "\n",
    "print(function(True), function())"
   ]
  },
  {
   "cell_type": "markdown",
   "id": "65181c59",
   "metadata": {},
   "source": [
    "8. The positional parameter passing technique is a technique based on the assumption that the arguments are associated with the parameters based upon their position (i.e. the first argument value goes to the first parameter, and so on) For example, the following snippet outputs 1 2 3 to the screen:"
   ]
  },
  {
   "cell_type": "code",
   "execution_count": null,
   "id": "a0248f99",
   "metadata": {},
   "outputs": [],
   "source": [
    "def function(a, b, c):\n",
    "    print(a, b, c)\n",
    "\n",
    "\n",
    "function(1, 2, 3)\n",
    "function(2, 3, 1)"
   ]
  },
  {
   "cell_type": "markdown",
   "id": "6ce7801b",
   "metadata": {},
   "source": [
    "9. The keyword parameter passing technique is a technique based on the assumption that the arguments are associated with the parameters based upon the parameter's names, which must be explicitly specified during the invocation. For example, the following snippet outputs 1 2 3 to the screen:"
   ]
  },
  {
   "cell_type": "code",
   "execution_count": null,
   "id": "d297d66d",
   "metadata": {},
   "outputs": [],
   "source": [
    "def function(a, b, c):\n",
    "    print(a, b, c)\n",
    "\n",
    "\n",
    "function(c=3, a=1, b=2)"
   ]
  },
  {
   "cell_type": "markdown",
   "id": "e55cebab",
   "metadata": {},
   "source": [
    "10. A function definition can declare default values for some or all of its parameters. When the invocation does not provide arguments for these parameters, the default values are taken into consideration. Note: parameters with default values must not precede the ones without them. For example, the following snippet prints 1 2 3 to the screen:"
   ]
  },
  {
   "cell_type": "code",
   "execution_count": null,
   "id": "69267fd5",
   "metadata": {},
   "outputs": [],
   "source": [
    "def function(a, b, c):\n",
    "    print(a, b, c)\n",
    "\n",
    "\n",
    "function(1, c=3, b=2)"
   ]
  },
  {
   "cell_type": "markdown",
   "id": "1c7c42cb",
   "metadata": {},
   "source": [
    "11. Note that the following invocation is incorrect and will raise the TypeError exception, because the a parameter is set twice (once with the positional passing and once with the keyword passing) while the c parameter is not set at all."
   ]
  },
  {
   "cell_type": "code",
   "execution_count": null,
   "id": "2063a134",
   "metadata": {},
   "outputs": [],
   "source": [
    "function(1, a=1, b=2)"
   ]
  },
  {
   "cell_type": "markdown",
   "id": "ec0a0322",
   "metadata": {},
   "source": [
    "12. A scope is the part of the code where a certain name is properly recognizable.\n",
    "\n",
    "13. A variable existing outside a function has a scope which includes the function's bodies.\n",
    "\n",
    "14. A variable defined inside the function has a scope inside the function's body only.\n",
    "\n",
    "15. If a certain variable is used inside a function and the variable’s name is listed as an argument of the global keyword, it has global scope, and it is also recognizable outside the function. For example, the following snippet outputs 2 to the screen:"
   ]
  },
  {
   "cell_type": "code",
   "execution_count": null,
   "id": "f2929c5d",
   "metadata": {},
   "outputs": [],
   "source": [
    "def function():\n",
    "    global variable\n",
    "    variable += 1\n",
    "\n",
    "\n",
    "variable = 1\n",
    "function()\n",
    "print(variable)"
   ]
  },
  {
   "cell_type": "markdown",
   "id": "51ead94f",
   "metadata": {},
   "source": [
    "Note: removing the line containing the global keyword will spoil the code and the UnboundLocalError exception will be raised."
   ]
  },
  {
   "cell_type": "markdown",
   "id": "6ec0d994",
   "metadata": {},
   "source": [
    "16. Changing the parameter's value doesn't propagate it outside the function. For example, the following snippet outputs [1] to the screen:"
   ]
  },
  {
   "cell_type": "code",
   "execution_count": null,
   "id": "15d304f3",
   "metadata": {},
   "outputs": [],
   "source": [
    "def function(parameter):\n",
    "    parameter = [2]\n",
    "\n",
    "\n",
    "the_list = [1]\n",
    "function(the_list)\n",
    "print(the_list)"
   ]
  },
  {
   "cell_type": "markdown",
   "id": "de8c68fd",
   "metadata": {},
   "source": [
    "17. If the parameter is a list or a dictionary, changing its contents propagates them outside the function. For example, the following snippet outputs [2] to the screen:"
   ]
  },
  {
   "cell_type": "code",
   "execution_count": null,
   "id": "d6d291ea",
   "metadata": {},
   "outputs": [],
   "source": [
    "def function(parameter):\n",
    "    parameter[0] = 2\n",
    "\n",
    "\n",
    "the_list = [1]\n",
    "function(the_list)\n",
    "print(the_list)"
   ]
  },
  {
   "cell_type": "markdown",
   "id": "d185c2b4",
   "metadata": {},
   "source": [
    "18. Recursion is a programming technique in which the function invokes itself to perform a complex task. For example, the following snippet contains a function that evaluates the factorial of its argument and prints 120 to the screen:"
   ]
  },
  {
   "cell_type": "code",
   "execution_count": null,
   "id": "b65a631d",
   "metadata": {},
   "outputs": [],
   "source": [
    "def factorial(n):\n",
    "    if n < 0:\n",
    "        return n\n",
    "    else:\n",
    "        return n * factorial(n - 1)\n",
    "\n",
    "\n",
    "print(factorial(2))"
   ]
  },
  {
   "cell_type": "markdown",
   "id": "2cdcacb4",
   "metadata": {},
   "source": [
    "# Exceptions and debugging\n",
    "1. An exception is an event caused by an execution error which can induce program termination if not properly handled by the programmer. The situation in which the exception is created and propagated is called raising the exception.\n",
    "\n",
    "2. Python professes its philosophy expressed with the sentence: It's better to beg for forgiveness than ask for permission. The recommendation hidden behind these words says that the programmer should allow the exceptions to occur and handle them properly instead of persistently avoiding problems and protecting the code from all possible errors with all their might.\n",
    "\n",
    "3. To control exceptions and to handle them, Python provides a dedicated construction consisting of the try and except branches.\n",
    "\n",
    "4. The try block encloses a part of the code that may cause an exception and when it happens, the execution of the block is terminated and the control jumps into the except block, which is dedicated to recognizing the problem and handling it. For example, the following snippet prints PROCEEDING even though the code provokes division by zero:"
   ]
  },
  {
   "cell_type": "code",
   "execution_count": null,
   "id": "0fbe16b8",
   "metadata": {},
   "outputs": [],
   "source": [
    "try:\n",
    "    x = 1 / 0\n",
    "except:\n",
    "    x = None\n",
    "print('PROCEEDING')"
   ]
  },
  {
   "cell_type": "markdown",
   "id": "f97d8027",
   "metadata": {},
   "source": [
    "5. Here is a list of the most common Python exceptions:\n",
    "    ZeroDivisionError: raised by a division in which the divider is zero or is indistinguishable from zero (/, //, and %)\n",
    "    ValueError: raised by the use of values that are inappropriate in the current context, for example, when a function receives an argument of a proper type, but its value is unacceptable, for example, int('')\n",
    "    TypeError: raised by attempts to apply data of a type which cannot be accepted in the current context, for example, int(None)\n",
    "    AttributeError: raised – among other occasions – when the code tries to activate a method that doesn't exist in a certain item, for example, the_list.apend() (note the typo!)\n",
    "    SyntaxError: raised when the control reaches a line of code that violates Python's grammar, and which has remained undetected until now;\n",
    "    NameError: raised when the code attempts to make use of a non-existent (not previously defined) item, for example, a variable or a function."
   ]
  },
  {
   "cell_type": "markdown",
   "id": "2cc9a6b1",
   "metadata": {},
   "source": [
    "6. hen more than one exception is expected inside the try block and these different exceptions require different handling, another syntax is used where there is more than one named except branch. The unnamed (anonymous) except branch is the default one, and is responsible for servicing these exceptions which still need to be handled.\n",
    "\n",
    "7. Not more than one except branch can be executed.\n",
    "\n",
    "8. The default except branch – if it exists – must be the last branch.\n",
    "\n",
    "9. For example, the following snippet outputs NAN when the user enters a string that is not an integer number, ZERO when the user enters 0, and ERR in the case of another error:"
   ]
  },
  {
   "cell_type": "code",
   "execution_count": null,
   "id": "7f21b2ef",
   "metadata": {},
   "outputs": [],
   "source": [
    "try:\n",
    "    print(1 / int(input(\"Enter a number: \")))\n",
    "except ValueError:\n",
    "    print('NAN')\n",
    "except ZeroDivisionError:\n",
    "    print('ZERO')\n",
    "except:\n",
    "    print('ERR')"
   ]
  },
  {
   "cell_type": "markdown",
   "id": "2e6153fa",
   "metadata": {},
   "source": [
    "10. An error existing in the code is commonly called a bug.\n",
    "\n",
    "11. The process by which bugs are detected and removed from the code is called debugging.\n",
    "\n",
    "12. The tool which allows the programmer to run the code in a fully controllable environment is called a debugger.\n",
    "\n",
    "13. The 'print debugging' technique is a trivial debugging technique in which the programmer adds some print() function invocations which help to trace execution paths and output the values of selected critical variables.\n",
    "\n",
    "14. The process in which the code is probed to ensure that it will behave correctly in a production environment is called testing. The testing should prove that all execution paths have been executed and caused no errors.\n",
    "\n",
    "15. The programming technique in which the tests and test data are created before the code is written or created in parallel with the code is called unit testing. It is assumed that every code amendment (even the most trivial) is followed by the execution of all previously defined tests.\n"
   ]
  },
  {
   "cell_type": "markdown",
   "id": "e308adda",
   "metadata": {},
   "source": [
    "# Sample PCEP Questions from July 2022"
   ]
  },
  {
   "cell_type": "code",
   "execution_count": 26,
   "id": "d7cc2f65",
   "metadata": {},
   "outputs": [
    {
     "ename": "TypeError",
     "evalue": "can only concatenate tuple (not \"float\") to tuple",
     "output_type": "error",
     "traceback": [
      "\u001b[1;31m---------------------------------------------------------------------------\u001b[0m",
      "\u001b[1;31mTypeError\u001b[0m                                 Traceback (most recent call last)",
      "Input \u001b[1;32mIn [26]\u001b[0m, in \u001b[0;36m<cell line: 4>\u001b[1;34m()\u001b[0m\n\u001b[0;32m      3\u001b[0m new \u001b[38;5;241m=\u001b[39m rates[:\u001b[38;5;241m3\u001b[39m]\n\u001b[0;32m      4\u001b[0m \u001b[38;5;28;01mfor\u001b[39;00m rate \u001b[38;5;129;01min\u001b[39;00m rates[\u001b[38;5;241m-\u001b[39m\u001b[38;5;241m2\u001b[39m:]:\n\u001b[1;32m----> 5\u001b[0m     new \u001b[38;5;241m+\u001b[39m\u001b[38;5;241m=\u001b[39m rate\n\u001b[0;32m      6\u001b[0m \u001b[38;5;28mprint\u001b[39m(\u001b[38;5;28mlen\u001b[39m(new))\n",
      "\u001b[1;31mTypeError\u001b[0m: can only concatenate tuple (not \"float\") to tuple"
     ]
    }
   ],
   "source": [
    "# 1. What is the expected result:\n",
    "rates = (1.2, 1.4, 1.0)\n",
    "new = rates[:3]\n",
    "for rate in rates[-2:]:\n",
    "    new += rate\n",
    "print(len(new))\n",
    "# 2\n",
    "#TypeError: can only concatenate tuple (not \"float\") to tuple\n",
    "# 1\n",
    "# 5\n"
   ]
  },
  {
   "cell_type": "code",
   "execution_count": null,
   "id": "b49461f1",
   "metadata": {},
   "outputs": [],
   "source": [
    "# 2. assuming that the following assignment has been successfully executed:\n",
    "the_list = [True, 3.1415, -1]\n",
    "#which of the following expressions will evaluate to True(select Two)\n",
    "\n",
    "# len(the_list) == 3) in the list\n",
    "# len(sorted(the_list)) != len(the_list)\n",
    "#\"True\" in the_list\n",
    "#the_list.index(-1) == 2\n"
   ]
  },
  {
   "cell_type": "code",
   "execution_count": null,
   "id": "1f8c2fec",
   "metadata": {},
   "outputs": [],
   "source": [
    "(len(the_list) == 3) in the_list"
   ]
  },
  {
   "cell_type": "code",
   "execution_count": null,
   "id": "4d07513a",
   "metadata": {},
   "outputs": [],
   "source": [
    "len(sorted(the_list)) != len(the_list)"
   ]
  },
  {
   "cell_type": "code",
   "execution_count": null,
   "id": "0ba450a3",
   "metadata": {},
   "outputs": [],
   "source": [
    "\"True\" in the_list\n",
    "#True in the_list"
   ]
  },
  {
   "cell_type": "code",
   "execution_count": null,
   "id": "4492ac5c",
   "metadata": {},
   "outputs": [],
   "source": [
    "the_list.index(-1) == 2"
   ]
  },
  {
   "cell_type": "code",
   "execution_count": null,
   "id": "76bc1faf",
   "metadata": {},
   "outputs": [],
   "source": [
    "# 3. What is the expected result of the following code?\n",
    "def velocity(x=10):\n",
    "    return speed + x\n",
    "speed = 10\n",
    "new_speed = velocity()\n",
    "new_speed = velocity(new_speed)\n",
    "print(new_speed)\n",
    "#Code is erroneous and cannot be run\n",
    "#30\n",
    "#10\n",
    "#20"
   ]
  },
  {
   "cell_type": "code",
   "execution_count": null,
   "id": "17b45d98",
   "metadata": {},
   "outputs": [],
   "source": [
    "# 4. Which of the following functions can be invoked without arguments?\n",
    "def beta(true):\n",
    "    pass"
   ]
  },
  {
   "cell_type": "code",
   "execution_count": null,
   "id": "e47ff2f0",
   "metadata": {},
   "outputs": [],
   "source": [
    "def delta(level, size = 0):\n",
    "    pass"
   ]
  },
  {
   "cell_type": "code",
   "execution_count": null,
   "id": "bd2e21a8",
   "metadata": {},
   "outputs": [],
   "source": [
    "def gamma(level):\n",
    "    pass"
   ]
  },
  {
   "cell_type": "code",
   "execution_count": null,
   "id": "24c4a7f8",
   "metadata": {},
   "outputs": [],
   "source": [
    "def alpha(level=100):\n",
    "    pass"
   ]
  },
  {
   "cell_type": "code",
   "execution_count": null,
   "id": "0b98b3ec",
   "metadata": {},
   "outputs": [],
   "source": [
    "#Correctly define a function which returns its only \n",
    "def times_2(x):\n",
    "    return x + x"
   ]
  },
  {
   "cell_type": "code",
   "execution_count": null,
   "id": "b8df691a",
   "metadata": {},
   "outputs": [],
   "source": [
    "def multiply_by_2(x):\n",
    "    return *= 2"
   ]
  },
  {
   "cell_type": "code",
   "execution_count": null,
   "id": "bd76864f",
   "metadata": {},
   "outputs": [],
   "source": [
    "def 2_times_arg(in):\n",
    "    return 2 * in"
   ]
  },
  {
   "cell_type": "code",
   "execution_count": null,
   "id": "0eca5543",
   "metadata": {},
   "outputs": [],
   "source": [
    "def double(value):\n",
    "    return 2 * value"
   ]
  },
  {
   "cell_type": "code",
   "execution_count": null,
   "id": "e9b41cf8",
   "metadata": {},
   "outputs": [],
   "source": [
    "# 5. what is the output of the below?\n",
    "def do_the_mess(parameter):\n",
    "    global variable\n",
    "    variable += parameter[0]\n",
    "    return variable\n",
    "the_list = [x for x in range(2, 3)]\n",
    "variable = 0\n",
    "do_the_mess(the_list)\n",
    "print(variable)\n",
    "\n",
    "#the code is erroneous\n",
    "#2\n",
    "#0\n",
    "#[2]"
   ]
  },
  {
   "cell_type": "markdown",
   "id": "e47ecdf3",
   "metadata": {},
   "source": [
    " number 6. Arrange the binary numeric operators in the order which reflects their\n",
    " priorities where the top most position is the highest priority\n",
    "\n",
    " 1. +\n",
    " 2. //\n",
    " 3. **"
   ]
  },
  {
   "cell_type": "code",
   "execution_count": null,
   "id": "1d63c2ef",
   "metadata": {},
   "outputs": [],
   "source": [
    "# 7. which evaluates to zero? select two.\n",
    "-3 / 2 * 4 + 1"
   ]
  },
  {
   "cell_type": "code",
   "execution_count": null,
   "id": "22bbf756",
   "metadata": {},
   "outputs": [],
   "source": [
    "2 / -3 * 6 + 4"
   ]
  },
  {
   "cell_type": "code",
   "execution_count": null,
   "id": "743e32a9",
   "metadata": {},
   "outputs": [],
   "source": [
    "2 // 2 * 2 + 3"
   ]
  },
  {
   "cell_type": "code",
   "execution_count": null,
   "id": "78cb35f1",
   "metadata": {},
   "outputs": [],
   "source": [
    "3 ** 2 // 3 / 3 - 1"
   ]
  },
  {
   "cell_type": "code",
   "execution_count": null,
   "id": "7122b98a",
   "metadata": {},
   "outputs": [],
   "source": [
    "#insert the code blocks to build a line of code that prints x and y sep by an ;\n",
    "\";\"\n",
    "input\n",
    "(\n",
    "    )\n",
    "end=';'\n",
    "sep=';'\n",
    "\n",
    "\n",
    "x = 1.5\n",
    "y = 3.8\n",
    "print()"
   ]
  },
  {
   "cell_type": "code",
   "execution_count": null,
   "id": "d57cfb85",
   "metadata": {},
   "outputs": [],
   "source": [
    "#arrange the code takes input from user asks for a float value and assigns it to level variable\n",
    "input\n",
    "(\n",
    "    )\n",
    "print\n",
    "level\n",
    "float\n",
    "input\n",
    "(\n",
    "    )\n",
    "\"enter flight level\""
   ]
  },
  {
   "cell_type": "markdown",
   "id": "9999880f",
   "metadata": {},
   "source": [
    "operators reflect their priority\n",
    "'_'\n",
    "'+'\n",
    "'**'\n",
    "'//'"
   ]
  },
  {
   "cell_type": "code",
   "execution_count": null,
   "id": "26565342",
   "metadata": {},
   "outputs": [],
   "source": [
    "v = [1, 2, 3]\n",
    " \n",
    " \n",
    "def g(a,b,m):\n",
    "    return m(a,b)\n",
    " \n",
    " \n",
    "print(g(1, 1, lambda x,y: v[ x:y+1 ]))"
   ]
  },
  {
   "cell_type": "code",
   "execution_count": null,
   "id": "752ccb79",
   "metadata": {},
   "outputs": [],
   "source": [
    "d = {}\n",
    "d[1] = 1\n",
    "d['1'] = 2\n",
    "d[1] += 1\n",
    " \n",
    "sum = 0\n",
    " \n",
    "for k in d:\n",
    "    sum += d[k]\n",
    " \n",
    "print(sum)"
   ]
  },
  {
   "cell_type": "code",
   "execution_count": null,
   "id": "6c49c683",
   "metadata": {},
   "outputs": [],
   "source": [
    "def func(p1, p2):\n",
    "    p1 = 1\n",
    "    p2[0] = 42\n",
    " \n",
    " \n",
    "x = 3\n",
    "y = [1, 2, 3]\n",
    " \n",
    "func(x, y)\n",
    " \n",
    "print(x, y[0])\n"
   ]
  },
  {
   "cell_type": "code",
   "execution_count": null,
   "id": "b3f79117",
   "metadata": {},
   "outputs": [],
   "source": [
    "x = [[[1, 2], [3, 4]], [[5, 6], [7, 8]]]\n",
    " \n",
    "def func(data):\n",
    "    res = data[0][0]\n",
    "    for da in data:\n",
    "        for d in da:\n",
    "            if res < d:\n",
    "                res = d\n",
    "    return res\n",
    " \n",
    "print(func(x[0]))"
   ]
  },
  {
   "cell_type": "code",
   "execution_count": null,
   "id": "0111aba7",
   "metadata": {},
   "outputs": [],
   "source": [
    "x = 1\n",
    " \n",
    " \n",
    "def a(x):\n",
    "    return 2 * x\n",
    " \n",
    " \n",
    "x = 2 + a(x)      # Line 8\n",
    "print(a(x))       # Line 9\n"
   ]
  }
 ],
 "metadata": {
  "kernelspec": {
   "display_name": "Python 3 (ipykernel)",
   "language": "python",
   "name": "python3"
  },
  "language_info": {
   "codemirror_mode": {
    "name": "ipython",
    "version": 3
   },
   "file_extension": ".py",
   "mimetype": "text/x-python",
   "name": "python",
   "nbconvert_exporter": "python",
   "pygments_lexer": "ipython3",
   "version": "3.9.12"
  },
  "vscode": {
   "interpreter": {
    "hash": "52634da84371cba311ea128a5ea7cdc41ff074b781779e754b270ff9f8153cee"
   }
  }
 },
 "nbformat": 4,
 "nbformat_minor": 5
}
